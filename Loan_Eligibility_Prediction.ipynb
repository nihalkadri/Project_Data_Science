{
  "cells": [
    {
      "cell_type": "code",
      "execution_count": 3,
      "metadata": {
        "id": "135diboJh7ne"
      },
      "outputs": [],
      "source": [
        "import fancyimpute\n",
        "import imblearn\n",
        "import joblib\n",
        "import matplotlib as plt\n",
        "import numpy as np\n",
        "import pandas as pd\n",
        "import scikit_learn as sklearn\n",
        "import scipy\n",
        "import seaborn\n",
        "import six\n",
        "import xgboost"
      ]
    },
    {
      "cell_type": "code",
      "execution_count": 4,
      "metadata": {
        "id": "nRdyNAg8h7nf"
      },
      "outputs": [],
      "source": [
        "import warnings\n",
        "warnings.filterwarnings(\"ignore\")"
      ]
    },
    {
      "cell_type": "code",
      "execution_count": 5,
      "metadata": {
        "id": "lEhGJmvummkV"
      },
      "outputs": [],
      "source": [
        "from fancyimpute import KNN, SoftImpute"
      ]
    },
    {
      "cell_type": "code",
      "execution_count": 6,
      "metadata": {
        "id": "ScNfUPv2nB6-"
      },
      "outputs": [],
      "source": [
        "import pandas as pd\n",
        "import numpy as np\n",
        "import os\n",
        "import matplotlib.pyplot as plt\n",
        "import seaborn as sns\n",
        "import statistics\n",
        "from sklearn.model_selection import train_test_split,GridSearchCV,cross_val_score\n",
        "from sklearn.preprocessing import LabelBinarizer,StandardScaler,OrdinalEncoder\n",
        "from sklearn.metrics import confusion_matrix\n",
        "from sklearn.metrics import roc_auc_score\n",
        "from sklearn.metrics import roc_curve\n",
        "from scipy.stats import boxcox\n",
        "from sklearn.linear_model import LogisticRegression,RidgeClassifier, PassiveAggressiveClassifier\n",
        "from sklearn import metrics\n",
        "from sklearn import preprocessing\n",
        "from sklearn.ensemble import RandomForestClassifier, GradientBoostingClassifier\n",
        "from xgboost import plot_importance\n",
        "from matplotlib import pyplot\n",
        "from sklearn.naive_bayes import BernoulliNB\n",
        "from sklearn.neighbors import KNeighborsClassifier\n",
        "from sklearn.svm import LinearSVC\n",
        "from sklearn.tree import DecisionTreeClassifier\n",
        "from xgboost import XGBClassifier\n",
        "import joblib\n",
        "\n",
        "%matplotlib inline\n"
      ]
    },
    {
      "cell_type": "code",
      "execution_count": 7,
      "metadata": {
        "id": "pRVfVbQM7uP1"
      },
      "outputs": [],
      "source": [
        "import operator"
      ]
    },
    {
      "cell_type": "code",
      "execution_count": 8,
      "metadata": {
        "id": "gxwo4iX1yCQb"
      },
      "outputs": [],
      "source": [
        "import six\n",
        "import sys\n",
        "sys.modules['sklearn.externals.six'] = six"
      ]
    },
    {
      "cell_type": "code",
      "execution_count": 9,
      "metadata": {
        "id": "2kVRJCkhyRSp"
      },
      "outputs": [],
      "source": [
        "import sklearn.neighbors._base\n",
        "sys.modules['sklearn.neighbors.base'] = sklearn.neighbors._base"
      ]
    },
    {
      "cell_type": "code",
      "execution_count": 10,
      "metadata": {
        "id": "JOONLmg7yuah"
      },
      "outputs": [],
      "source": [
        "from sklearn.utils import _safe_indexing\n",
        "sys.modules['sklearn.utils.safe_indexing'] = sklearn.utils._safe_indexing"
      ]
    },
    {
      "cell_type": "code",
      "execution_count": 11,
      "metadata": {
        "id": "Ol8_KYaHxyQ1"
      },
      "outputs": [],
      "source": [
        "from imblearn.over_sampling import SMOTE"
      ]
    },
    {
      "cell_type": "code",
      "execution_count": 12,
      "metadata": {
        "id": "vSgZnQsTx7F5"
      },
      "outputs": [],
      "source": [
        "\n",
        "def classify(est, x, y,X_test,y_test):\n",
        "    #Passing the model and train test dataset to fit the model\n",
        "    est.fit(x, y)\n",
        "    #Predicting the probabilities of the Tet data\n",
        "    y2 = est.predict_proba(X_test)\n",
        "    y1 = est.predict(X_test)\n",
        "\n",
        "    print(\"Accuracy: \", metrics.accuracy_score(y_test, y1))\n",
        "    print(\"Area under the ROC curve: \", metrics.roc_auc_score(y_test, y2[:, 1]))\n",
        "    #Calculate different metrics\n",
        "    print(\"F-metric: \", metrics.f1_score(y_test, y1))\n",
        "    print(\" \")\n",
        "    print(\"Classification report:\")\n",
        "    print(metrics.classification_report(y_test, y1))\n",
        "    print(\" \")\n",
        "    print(\"Evaluation by cross-validation:\")\n",
        "    print(cross_val_score(est, x, y))\n",
        "\n",
        "    return est, y1, y2[:, 1]\n",
        "\n",
        "\n",
        "#Function to find which features are more important than others through model\n",
        "def feat_importance(estimator):\n",
        "    feature_importance = {}\n",
        "    for index, name in enumerate(df_LC.columns):\n",
        "        feature_importance[name] = estimator.feature_importances_[index]\n",
        "\n",
        "    feature_importance = {k: v for k, v in feature_importance.items()}\n",
        "    sorted_x = sorted(feature_importance.items(), key=operator.itemgetter(1), reverse = True)\n",
        "\n",
        "    return sorted_x\n",
        "\n",
        "#Model to  predict the ROC curve for various models and finding the best one\n",
        "def run_models(X_train, y_train, X_test, y_test, model_type = 'Non-balanced'):\n",
        "\n",
        "    clfs = {'GradientBoosting': GradientBoostingClassifier(max_depth= 6, n_estimators=100, max_features = 0.3),\n",
        "            'LogisticRegression' : LogisticRegression(),\n",
        "            'RandomForestClassifier': RandomForestClassifier(n_estimators=10),\n",
        "            'XGBClassifier': XGBClassifier()\n",
        "            }\n",
        "    cols = ['model','matthews_corrcoef', 'roc_auc_score', 'precision_score', 'recall_score','f1_score']\n",
        "\n",
        "    models_report = pd.DataFrame(columns = cols)\n",
        "    conf_matrix = dict()\n",
        "\n",
        "    for clf, clf_name in zip(clfs.values(), clfs.keys()):\n",
        "\n",
        "        clf.fit(X_train, y_train)\n",
        "\n",
        "        y_pred = clf.predict(X_test)\n",
        "        y_score = clf.predict_proba(X_test)[:,1]\n",
        "\n",
        "        print('computing {} - {} '.format(clf_name, model_type))\n",
        "\n",
        "        tmp = pd.Series({'model_type': model_type,\n",
        "                         'model': clf_name,\n",
        "                         'roc_auc_score' : metrics.roc_auc_score(y_test, y_score),\n",
        "                         'matthews_corrcoef': metrics.matthews_corrcoef(y_test, y_pred),\n",
        "                         'precision_score': metrics.precision_score(y_test, y_pred),\n",
        "                         'recall_score': metrics.recall_score(y_test, y_pred),\n",
        "                         'f1_score': metrics.f1_score(y_test, y_pred)})\n",
        "\n",
        "        models_report = models_report.append(tmp, ignore_index = True)\n",
        "        conf_matrix[clf_name] = pd.crosstab(y_test, y_pred, rownames=['True'], colnames= ['Predicted'], margins=False)\n",
        "        fpr, tpr, thresholds = metrics.roc_curve(y_test, y_score, drop_intermediate = False, pos_label = 1)\n",
        "\n",
        "        plt.figure(1, figsize=(6,6))\n",
        "        plt.xlabel('false positive rate')\n",
        "        plt.ylabel('true positive rate')\n",
        "        plt.title('ROC curve - {}'.format(model_type))\n",
        "        plt.plot(fpr, tpr, label = clf_name )\n",
        "        plt.legend(loc=2, prop={'size':11})\n",
        "    plt.plot([0,1],[0,1], color = 'black')\n",
        "\n",
        "    return models_report, conf_matrix"
      ]
    },
    {
      "cell_type": "code",
      "execution_count": 13,
      "metadata": {
        "id": "-7XIVyoSemPa"
      },
      "outputs": [],
      "source": [
        "#Importing the datasets\n",
        "import pandas as pd\n",
        "data =pd.read_csv(\"https://s3.amazonaws.com/hackerday.datascience/358/LoansTrainingSetV2.csv\")"
      ]
    },
    {
      "cell_type": "code",
      "execution_count": 14,
      "metadata": {
        "colab": {
          "base_uri": "https://localhost:8080/"
        },
        "id": "ADRvAC6H3A07",
        "outputId": "4c7b3fc7-d5b8-4159-bde4-25f43010486f"
      },
      "outputs": [
        {
          "data": {
            "text/plain": [
              "111107"
            ]
          },
          "execution_count": 14,
          "metadata": {},
          "output_type": "execute_result"
        }
      ],
      "source": [
        "data.head()\n",
        "len(data)"
      ]
    },
    {
      "cell_type": "code",
      "execution_count": 15,
      "metadata": {
        "colab": {
          "base_uri": "https://localhost:8080/",
          "height": 1000
        },
        "id": "6S7aIB2wBKpl",
        "outputId": "172c6e4d-2a00-4115-8d76-9b106ad9ed61"
      },
      "outputs": [
        {
          "data": {
            "application/vnd.google.colaboratory.intrinsic+json": {
              "type": "dataframe",
              "variable_name": "data"
            },
            "text/html": [
              "\n",
              "  <div id=\"df-fac95369-af4d-4696-b048-d9f41e13bf0d\" class=\"colab-df-container\">\n",
              "    <div>\n",
              "<style scoped>\n",
              "    .dataframe tbody tr th:only-of-type {\n",
              "        vertical-align: middle;\n",
              "    }\n",
              "\n",
              "    .dataframe tbody tr th {\n",
              "        vertical-align: top;\n",
              "    }\n",
              "\n",
              "    .dataframe thead th {\n",
              "        text-align: right;\n",
              "    }\n",
              "</style>\n",
              "<table border=\"1\" class=\"dataframe\">\n",
              "  <thead>\n",
              "    <tr style=\"text-align: right;\">\n",
              "      <th></th>\n",
              "      <th>Loan ID</th>\n",
              "      <th>Customer ID</th>\n",
              "      <th>Loan Status</th>\n",
              "      <th>Current Loan Amount</th>\n",
              "      <th>Term</th>\n",
              "      <th>Credit Score</th>\n",
              "      <th>Years in current job</th>\n",
              "      <th>Home Ownership</th>\n",
              "      <th>Annual Income</th>\n",
              "      <th>Purpose</th>\n",
              "      <th>Monthly Debt</th>\n",
              "      <th>Years of Credit History</th>\n",
              "      <th>Months since last delinquent</th>\n",
              "      <th>Number of Open Accounts</th>\n",
              "      <th>Number of Credit Problems</th>\n",
              "      <th>Current Credit Balance</th>\n",
              "      <th>Maximum Open Credit</th>\n",
              "      <th>Bankruptcies</th>\n",
              "      <th>Tax Liens</th>\n",
              "    </tr>\n",
              "  </thead>\n",
              "  <tbody>\n",
              "    <tr>\n",
              "      <th>0</th>\n",
              "      <td>6cf51492-02a2-423e-b93d-676f05b9ad53</td>\n",
              "      <td>7c202b37-2add-44e8-9aea-d5b119aea935</td>\n",
              "      <td>Loan Refused</td>\n",
              "      <td>12232</td>\n",
              "      <td>Short Term</td>\n",
              "      <td>7280.0</td>\n",
              "      <td>&lt; 1 year</td>\n",
              "      <td>Rent</td>\n",
              "      <td>46643.0</td>\n",
              "      <td>Debt Consolidation</td>\n",
              "      <td>777.39</td>\n",
              "      <td>18.0</td>\n",
              "      <td>10.0</td>\n",
              "      <td>12</td>\n",
              "      <td>0</td>\n",
              "      <td>6762</td>\n",
              "      <td>7946</td>\n",
              "      <td>0.0</td>\n",
              "      <td>0.0</td>\n",
              "    </tr>\n",
              "    <tr>\n",
              "      <th>1</th>\n",
              "      <td>552e7ade-4292-4354-9ff9-c48031697d72</td>\n",
              "      <td>e7217b0a-07ac-47dd-b379-577b5a35b7c6</td>\n",
              "      <td>Loan Refused</td>\n",
              "      <td>25014</td>\n",
              "      <td>Long Term</td>\n",
              "      <td>7330.0</td>\n",
              "      <td>10+ years</td>\n",
              "      <td>Home Mortgage</td>\n",
              "      <td>81099.0</td>\n",
              "      <td>Debt Consolidation</td>\n",
              "      <td>892.09</td>\n",
              "      <td>26.7</td>\n",
              "      <td>NaN</td>\n",
              "      <td>14</td>\n",
              "      <td>0</td>\n",
              "      <td>35706</td>\n",
              "      <td>77961</td>\n",
              "      <td>0.0</td>\n",
              "      <td>0.0</td>\n",
              "    </tr>\n",
              "    <tr>\n",
              "      <th>2</th>\n",
              "      <td>9b5e32b3-8d76-4801-afc8-d729d5a2e6b9</td>\n",
              "      <td>0a62fc41-16c8-40b5-92ff-9e4b763ce714</td>\n",
              "      <td>Loan Refused</td>\n",
              "      <td>16117</td>\n",
              "      <td>Short Term</td>\n",
              "      <td>7240.0</td>\n",
              "      <td>9 years</td>\n",
              "      <td>Home Mortgage</td>\n",
              "      <td>60438.0</td>\n",
              "      <td>Home Improvements</td>\n",
              "      <td>1244.02</td>\n",
              "      <td>16.7</td>\n",
              "      <td>32.0</td>\n",
              "      <td>11</td>\n",
              "      <td>1</td>\n",
              "      <td>11275</td>\n",
              "      <td>14815</td>\n",
              "      <td>1.0</td>\n",
              "      <td>0.0</td>\n",
              "    </tr>\n",
              "    <tr>\n",
              "      <th>3</th>\n",
              "      <td>5419b7c7-ac11-4be2-a8a7-b131fb6d6dbe</td>\n",
              "      <td>30f36c59-5182-4482-8bbb-5b736849ae43</td>\n",
              "      <td>Loan Refused</td>\n",
              "      <td>11716</td>\n",
              "      <td>Short Term</td>\n",
              "      <td>7400.0</td>\n",
              "      <td>3 years</td>\n",
              "      <td>Rent</td>\n",
              "      <td>34171.0</td>\n",
              "      <td>Debt Consolidation</td>\n",
              "      <td>990.94</td>\n",
              "      <td>10.0</td>\n",
              "      <td>NaN</td>\n",
              "      <td>21</td>\n",
              "      <td>0</td>\n",
              "      <td>7009</td>\n",
              "      <td>43533</td>\n",
              "      <td>0.0</td>\n",
              "      <td>0.0</td>\n",
              "    </tr>\n",
              "    <tr>\n",
              "      <th>4</th>\n",
              "      <td>1450910f-9495-4fc9-afaf-9bdf4b9821df</td>\n",
              "      <td>70c26012-bba5-42c0-8dcb-75295ada31bb</td>\n",
              "      <td>Loan Refused</td>\n",
              "      <td>9789</td>\n",
              "      <td>Long Term</td>\n",
              "      <td>6860.0</td>\n",
              "      <td>10+ years</td>\n",
              "      <td>Home Mortgage</td>\n",
              "      <td>47003.0</td>\n",
              "      <td>Home Improvements</td>\n",
              "      <td>503.71</td>\n",
              "      <td>16.7</td>\n",
              "      <td>25.0</td>\n",
              "      <td>13</td>\n",
              "      <td>1</td>\n",
              "      <td>16913</td>\n",
              "      <td>19553</td>\n",
              "      <td>1.0</td>\n",
              "      <td>0.0</td>\n",
              "    </tr>\n",
              "    <tr>\n",
              "      <th>...</th>\n",
              "      <td>...</td>\n",
              "      <td>...</td>\n",
              "      <td>...</td>\n",
              "      <td>...</td>\n",
              "      <td>...</td>\n",
              "      <td>...</td>\n",
              "      <td>...</td>\n",
              "      <td>...</td>\n",
              "      <td>...</td>\n",
              "      <td>...</td>\n",
              "      <td>...</td>\n",
              "      <td>...</td>\n",
              "      <td>...</td>\n",
              "      <td>...</td>\n",
              "      <td>...</td>\n",
              "      <td>...</td>\n",
              "      <td>...</td>\n",
              "      <td>...</td>\n",
              "      <td>...</td>\n",
              "    </tr>\n",
              "    <tr>\n",
              "      <th>111102</th>\n",
              "      <td>503f01e2-c3c4-4b10-886e-f15de57b6f1a</td>\n",
              "      <td>27a17610-1d8c-48a7-b0db-2d81a4fa099a</td>\n",
              "      <td>Loan Given</td>\n",
              "      <td>15654</td>\n",
              "      <td>Long Term</td>\n",
              "      <td>686.0</td>\n",
              "      <td>10+ years</td>\n",
              "      <td>Rent</td>\n",
              "      <td>43050.0</td>\n",
              "      <td>Debt Consolidation</td>\n",
              "      <td>889.69</td>\n",
              "      <td>14.1</td>\n",
              "      <td>49.0</td>\n",
              "      <td>18</td>\n",
              "      <td>0</td>\n",
              "      <td>14730</td>\n",
              "      <td>29757</td>\n",
              "      <td>0.0</td>\n",
              "      <td>0.0</td>\n",
              "    </tr>\n",
              "    <tr>\n",
              "      <th>111103</th>\n",
              "      <td>8af53bc0-56a4-4801-a960-52a46a90b33f</td>\n",
              "      <td>c124ca71-f42a-47cc-8ec2-236f7e9868a5</td>\n",
              "      <td>Loan Given</td>\n",
              "      <td>15237</td>\n",
              "      <td>Short Term</td>\n",
              "      <td>706.0</td>\n",
              "      <td>10+ years</td>\n",
              "      <td>Home Mortgage</td>\n",
              "      <td>60948.0</td>\n",
              "      <td>Debt Consolidation</td>\n",
              "      <td>700.9</td>\n",
              "      <td>15.9</td>\n",
              "      <td>48.0</td>\n",
              "      <td>11</td>\n",
              "      <td>0</td>\n",
              "      <td>17733</td>\n",
              "      <td>23060</td>\n",
              "      <td>0.0</td>\n",
              "      <td>0.0</td>\n",
              "    </tr>\n",
              "    <tr>\n",
              "      <th>111104</th>\n",
              "      <td>96efd327-f965-42ae-8b2b-d2555205ce19</td>\n",
              "      <td>7d959a54-8eeb-4df6-b582-046f889e4cff</td>\n",
              "      <td>Loan Given</td>\n",
              "      <td>10413</td>\n",
              "      <td>Short Term</td>\n",
              "      <td>719.0</td>\n",
              "      <td>5 years</td>\n",
              "      <td>Home Mortgage</td>\n",
              "      <td>66945.0</td>\n",
              "      <td>Debt Consolidation</td>\n",
              "      <td>1210.59</td>\n",
              "      <td>8.7</td>\n",
              "      <td>NaN</td>\n",
              "      <td>11</td>\n",
              "      <td>0</td>\n",
              "      <td>5205</td>\n",
              "      <td>6348</td>\n",
              "      <td>0.0</td>\n",
              "      <td>0.0</td>\n",
              "    </tr>\n",
              "    <tr>\n",
              "      <th>111105</th>\n",
              "      <td>ec19166c-70c5-4d49-adb6-fb3fc15024a2</td>\n",
              "      <td>5723fbf2-1ce8-4752-8bee-1bebf339f278</td>\n",
              "      <td>Loan Given</td>\n",
              "      <td>34447</td>\n",
              "      <td>Short Term</td>\n",
              "      <td>626.0</td>\n",
              "      <td>10+ years</td>\n",
              "      <td>Home Mortgage</td>\n",
              "      <td>78736.0</td>\n",
              "      <td>Debt Consolidation</td>\n",
              "      <td>1476.3</td>\n",
              "      <td>30.4</td>\n",
              "      <td>9.0</td>\n",
              "      <td>12</td>\n",
              "      <td>0</td>\n",
              "      <td>32318</td>\n",
              "      <td>37580</td>\n",
              "      <td>0.0</td>\n",
              "      <td>0.0</td>\n",
              "    </tr>\n",
              "    <tr>\n",
              "      <th>111106</th>\n",
              "      <td>f83ae0e1-bd30-46c7-9f72-f4f9fe2f36ca</td>\n",
              "      <td>74187e35-39c2-4010-ae0d-8bcd0544189e</td>\n",
              "      <td>Loan Given</td>\n",
              "      <td>9209</td>\n",
              "      <td>Long Term</td>\n",
              "      <td>708.0</td>\n",
              "      <td>&lt; 1 year</td>\n",
              "      <td>Own Home</td>\n",
              "      <td>123454.0</td>\n",
              "      <td>Debt Consolidation</td>\n",
              "      <td>668.71</td>\n",
              "      <td>20.1</td>\n",
              "      <td>16.0</td>\n",
              "      <td>8</td>\n",
              "      <td>0</td>\n",
              "      <td>6835</td>\n",
              "      <td>9261</td>\n",
              "      <td>0.0</td>\n",
              "      <td>0.0</td>\n",
              "    </tr>\n",
              "  </tbody>\n",
              "</table>\n",
              "<p>111107 rows × 19 columns</p>\n",
              "</div>\n",
              "    <div class=\"colab-df-buttons\">\n",
              "\n",
              "  <div class=\"colab-df-container\">\n",
              "    <button class=\"colab-df-convert\" onclick=\"convertToInteractive('df-fac95369-af4d-4696-b048-d9f41e13bf0d')\"\n",
              "            title=\"Convert this dataframe to an interactive table.\"\n",
              "            style=\"display:none;\">\n",
              "\n",
              "  <svg xmlns=\"http://www.w3.org/2000/svg\" height=\"24px\" viewBox=\"0 -960 960 960\">\n",
              "    <path d=\"M120-120v-720h720v720H120Zm60-500h600v-160H180v160Zm220 220h160v-160H400v160Zm0 220h160v-160H400v160ZM180-400h160v-160H180v160Zm440 0h160v-160H620v160ZM180-180h160v-160H180v160Zm440 0h160v-160H620v160Z\"/>\n",
              "  </svg>\n",
              "    </button>\n",
              "\n",
              "  <style>\n",
              "    .colab-df-container {\n",
              "      display:flex;\n",
              "      gap: 12px;\n",
              "    }\n",
              "\n",
              "    .colab-df-convert {\n",
              "      background-color: #E8F0FE;\n",
              "      border: none;\n",
              "      border-radius: 50%;\n",
              "      cursor: pointer;\n",
              "      display: none;\n",
              "      fill: #1967D2;\n",
              "      height: 32px;\n",
              "      padding: 0 0 0 0;\n",
              "      width: 32px;\n",
              "    }\n",
              "\n",
              "    .colab-df-convert:hover {\n",
              "      background-color: #E2EBFA;\n",
              "      box-shadow: 0px 1px 2px rgba(60, 64, 67, 0.3), 0px 1px 3px 1px rgba(60, 64, 67, 0.15);\n",
              "      fill: #174EA6;\n",
              "    }\n",
              "\n",
              "    .colab-df-buttons div {\n",
              "      margin-bottom: 4px;\n",
              "    }\n",
              "\n",
              "    [theme=dark] .colab-df-convert {\n",
              "      background-color: #3B4455;\n",
              "      fill: #D2E3FC;\n",
              "    }\n",
              "\n",
              "    [theme=dark] .colab-df-convert:hover {\n",
              "      background-color: #434B5C;\n",
              "      box-shadow: 0px 1px 3px 1px rgba(0, 0, 0, 0.15);\n",
              "      filter: drop-shadow(0px 1px 2px rgba(0, 0, 0, 0.3));\n",
              "      fill: #FFFFFF;\n",
              "    }\n",
              "  </style>\n",
              "\n",
              "    <script>\n",
              "      const buttonEl =\n",
              "        document.querySelector('#df-fac95369-af4d-4696-b048-d9f41e13bf0d button.colab-df-convert');\n",
              "      buttonEl.style.display =\n",
              "        google.colab.kernel.accessAllowed ? 'block' : 'none';\n",
              "\n",
              "      async function convertToInteractive(key) {\n",
              "        const element = document.querySelector('#df-fac95369-af4d-4696-b048-d9f41e13bf0d');\n",
              "        const dataTable =\n",
              "          await google.colab.kernel.invokeFunction('convertToInteractive',\n",
              "                                                    [key], {});\n",
              "        if (!dataTable) return;\n",
              "\n",
              "        const docLinkHtml = 'Like what you see? Visit the ' +\n",
              "          '<a target=\"_blank\" href=https://colab.research.google.com/notebooks/data_table.ipynb>data table notebook</a>'\n",
              "          + ' to learn more about interactive tables.';\n",
              "        element.innerHTML = '';\n",
              "        dataTable['output_type'] = 'display_data';\n",
              "        await google.colab.output.renderOutput(dataTable, element);\n",
              "        const docLink = document.createElement('div');\n",
              "        docLink.innerHTML = docLinkHtml;\n",
              "        element.appendChild(docLink);\n",
              "      }\n",
              "    </script>\n",
              "  </div>\n",
              "\n",
              "\n",
              "<div id=\"df-c26c41e5-39c2-4421-823f-48d749976400\">\n",
              "  <button class=\"colab-df-quickchart\" onclick=\"quickchart('df-c26c41e5-39c2-4421-823f-48d749976400')\"\n",
              "            title=\"Suggest charts\"\n",
              "            style=\"display:none;\">\n",
              "\n",
              "<svg xmlns=\"http://www.w3.org/2000/svg\" height=\"24px\"viewBox=\"0 0 24 24\"\n",
              "     width=\"24px\">\n",
              "    <g>\n",
              "        <path d=\"M19 3H5c-1.1 0-2 .9-2 2v14c0 1.1.9 2 2 2h14c1.1 0 2-.9 2-2V5c0-1.1-.9-2-2-2zM9 17H7v-7h2v7zm4 0h-2V7h2v10zm4 0h-2v-4h2v4z\"/>\n",
              "    </g>\n",
              "</svg>\n",
              "  </button>\n",
              "\n",
              "<style>\n",
              "  .colab-df-quickchart {\n",
              "      --bg-color: #E8F0FE;\n",
              "      --fill-color: #1967D2;\n",
              "      --hover-bg-color: #E2EBFA;\n",
              "      --hover-fill-color: #174EA6;\n",
              "      --disabled-fill-color: #AAA;\n",
              "      --disabled-bg-color: #DDD;\n",
              "  }\n",
              "\n",
              "  [theme=dark] .colab-df-quickchart {\n",
              "      --bg-color: #3B4455;\n",
              "      --fill-color: #D2E3FC;\n",
              "      --hover-bg-color: #434B5C;\n",
              "      --hover-fill-color: #FFFFFF;\n",
              "      --disabled-bg-color: #3B4455;\n",
              "      --disabled-fill-color: #666;\n",
              "  }\n",
              "\n",
              "  .colab-df-quickchart {\n",
              "    background-color: var(--bg-color);\n",
              "    border: none;\n",
              "    border-radius: 50%;\n",
              "    cursor: pointer;\n",
              "    display: none;\n",
              "    fill: var(--fill-color);\n",
              "    height: 32px;\n",
              "    padding: 0;\n",
              "    width: 32px;\n",
              "  }\n",
              "\n",
              "  .colab-df-quickchart:hover {\n",
              "    background-color: var(--hover-bg-color);\n",
              "    box-shadow: 0 1px 2px rgba(60, 64, 67, 0.3), 0 1px 3px 1px rgba(60, 64, 67, 0.15);\n",
              "    fill: var(--button-hover-fill-color);\n",
              "  }\n",
              "\n",
              "  .colab-df-quickchart-complete:disabled,\n",
              "  .colab-df-quickchart-complete:disabled:hover {\n",
              "    background-color: var(--disabled-bg-color);\n",
              "    fill: var(--disabled-fill-color);\n",
              "    box-shadow: none;\n",
              "  }\n",
              "\n",
              "  .colab-df-spinner {\n",
              "    border: 2px solid var(--fill-color);\n",
              "    border-color: transparent;\n",
              "    border-bottom-color: var(--fill-color);\n",
              "    animation:\n",
              "      spin 1s steps(1) infinite;\n",
              "  }\n",
              "\n",
              "  @keyframes spin {\n",
              "    0% {\n",
              "      border-color: transparent;\n",
              "      border-bottom-color: var(--fill-color);\n",
              "      border-left-color: var(--fill-color);\n",
              "    }\n",
              "    20% {\n",
              "      border-color: transparent;\n",
              "      border-left-color: var(--fill-color);\n",
              "      border-top-color: var(--fill-color);\n",
              "    }\n",
              "    30% {\n",
              "      border-color: transparent;\n",
              "      border-left-color: var(--fill-color);\n",
              "      border-top-color: var(--fill-color);\n",
              "      border-right-color: var(--fill-color);\n",
              "    }\n",
              "    40% {\n",
              "      border-color: transparent;\n",
              "      border-right-color: var(--fill-color);\n",
              "      border-top-color: var(--fill-color);\n",
              "    }\n",
              "    60% {\n",
              "      border-color: transparent;\n",
              "      border-right-color: var(--fill-color);\n",
              "    }\n",
              "    80% {\n",
              "      border-color: transparent;\n",
              "      border-right-color: var(--fill-color);\n",
              "      border-bottom-color: var(--fill-color);\n",
              "    }\n",
              "    90% {\n",
              "      border-color: transparent;\n",
              "      border-bottom-color: var(--fill-color);\n",
              "    }\n",
              "  }\n",
              "</style>\n",
              "\n",
              "  <script>\n",
              "    async function quickchart(key) {\n",
              "      const quickchartButtonEl =\n",
              "        document.querySelector('#' + key + ' button');\n",
              "      quickchartButtonEl.disabled = true;  // To prevent multiple clicks.\n",
              "      quickchartButtonEl.classList.add('colab-df-spinner');\n",
              "      try {\n",
              "        const charts = await google.colab.kernel.invokeFunction(\n",
              "            'suggestCharts', [key], {});\n",
              "      } catch (error) {\n",
              "        console.error('Error during call to suggestCharts:', error);\n",
              "      }\n",
              "      quickchartButtonEl.classList.remove('colab-df-spinner');\n",
              "      quickchartButtonEl.classList.add('colab-df-quickchart-complete');\n",
              "    }\n",
              "    (() => {\n",
              "      let quickchartButtonEl =\n",
              "        document.querySelector('#df-c26c41e5-39c2-4421-823f-48d749976400 button');\n",
              "      quickchartButtonEl.style.display =\n",
              "        google.colab.kernel.accessAllowed ? 'block' : 'none';\n",
              "    })();\n",
              "  </script>\n",
              "</div>\n",
              "\n",
              "  <div id=\"id_bf9eb6d3-7b85-4968-9c68-94055ba71701\">\n",
              "    <style>\n",
              "      .colab-df-generate {\n",
              "        background-color: #E8F0FE;\n",
              "        border: none;\n",
              "        border-radius: 50%;\n",
              "        cursor: pointer;\n",
              "        display: none;\n",
              "        fill: #1967D2;\n",
              "        height: 32px;\n",
              "        padding: 0 0 0 0;\n",
              "        width: 32px;\n",
              "      }\n",
              "\n",
              "      .colab-df-generate:hover {\n",
              "        background-color: #E2EBFA;\n",
              "        box-shadow: 0px 1px 2px rgba(60, 64, 67, 0.3), 0px 1px 3px 1px rgba(60, 64, 67, 0.15);\n",
              "        fill: #174EA6;\n",
              "      }\n",
              "\n",
              "      [theme=dark] .colab-df-generate {\n",
              "        background-color: #3B4455;\n",
              "        fill: #D2E3FC;\n",
              "      }\n",
              "\n",
              "      [theme=dark] .colab-df-generate:hover {\n",
              "        background-color: #434B5C;\n",
              "        box-shadow: 0px 1px 3px 1px rgba(0, 0, 0, 0.15);\n",
              "        filter: drop-shadow(0px 1px 2px rgba(0, 0, 0, 0.3));\n",
              "        fill: #FFFFFF;\n",
              "      }\n",
              "    </style>\n",
              "    <button class=\"colab-df-generate\" onclick=\"generateWithVariable('data')\"\n",
              "            title=\"Generate code using this dataframe.\"\n",
              "            style=\"display:none;\">\n",
              "\n",
              "  <svg xmlns=\"http://www.w3.org/2000/svg\" height=\"24px\"viewBox=\"0 0 24 24\"\n",
              "       width=\"24px\">\n",
              "    <path d=\"M7,19H8.4L18.45,9,17,7.55,7,17.6ZM5,21V16.75L18.45,3.32a2,2,0,0,1,2.83,0l1.4,1.43a1.91,1.91,0,0,1,.58,1.4,1.91,1.91,0,0,1-.58,1.4L9.25,21ZM18.45,9,17,7.55Zm-12,3A5.31,5.31,0,0,0,4.9,8.1,5.31,5.31,0,0,0,1,6.5,5.31,5.31,0,0,0,4.9,4.9,5.31,5.31,0,0,0,6.5,1,5.31,5.31,0,0,0,8.1,4.9,5.31,5.31,0,0,0,12,6.5,5.46,5.46,0,0,0,6.5,12Z\"/>\n",
              "  </svg>\n",
              "    </button>\n",
              "    <script>\n",
              "      (() => {\n",
              "      const buttonEl =\n",
              "        document.querySelector('#id_bf9eb6d3-7b85-4968-9c68-94055ba71701 button.colab-df-generate');\n",
              "      buttonEl.style.display =\n",
              "        google.colab.kernel.accessAllowed ? 'block' : 'none';\n",
              "\n",
              "      buttonEl.onclick = () => {\n",
              "        google.colab.notebook.generateWithVariable('data');\n",
              "      }\n",
              "      })();\n",
              "    </script>\n",
              "  </div>\n",
              "\n",
              "    </div>\n",
              "  </div>\n"
            ],
            "text/plain": [
              "                                     Loan ID  \\\n",
              "0       6cf51492-02a2-423e-b93d-676f05b9ad53   \n",
              "1       552e7ade-4292-4354-9ff9-c48031697d72   \n",
              "2       9b5e32b3-8d76-4801-afc8-d729d5a2e6b9   \n",
              "3       5419b7c7-ac11-4be2-a8a7-b131fb6d6dbe   \n",
              "4       1450910f-9495-4fc9-afaf-9bdf4b9821df   \n",
              "...                                      ...   \n",
              "111102  503f01e2-c3c4-4b10-886e-f15de57b6f1a   \n",
              "111103  8af53bc0-56a4-4801-a960-52a46a90b33f   \n",
              "111104  96efd327-f965-42ae-8b2b-d2555205ce19   \n",
              "111105  ec19166c-70c5-4d49-adb6-fb3fc15024a2   \n",
              "111106  f83ae0e1-bd30-46c7-9f72-f4f9fe2f36ca   \n",
              "\n",
              "                                 Customer ID   Loan Status  \\\n",
              "0       7c202b37-2add-44e8-9aea-d5b119aea935  Loan Refused   \n",
              "1       e7217b0a-07ac-47dd-b379-577b5a35b7c6  Loan Refused   \n",
              "2       0a62fc41-16c8-40b5-92ff-9e4b763ce714  Loan Refused   \n",
              "3       30f36c59-5182-4482-8bbb-5b736849ae43  Loan Refused   \n",
              "4       70c26012-bba5-42c0-8dcb-75295ada31bb  Loan Refused   \n",
              "...                                      ...           ...   \n",
              "111102  27a17610-1d8c-48a7-b0db-2d81a4fa099a    Loan Given   \n",
              "111103  c124ca71-f42a-47cc-8ec2-236f7e9868a5    Loan Given   \n",
              "111104  7d959a54-8eeb-4df6-b582-046f889e4cff    Loan Given   \n",
              "111105  5723fbf2-1ce8-4752-8bee-1bebf339f278    Loan Given   \n",
              "111106  74187e35-39c2-4010-ae0d-8bcd0544189e    Loan Given   \n",
              "\n",
              "        Current Loan Amount        Term  Credit Score Years in current job  \\\n",
              "0                     12232  Short Term        7280.0             < 1 year   \n",
              "1                     25014   Long Term        7330.0            10+ years   \n",
              "2                     16117  Short Term        7240.0              9 years   \n",
              "3                     11716  Short Term        7400.0              3 years   \n",
              "4                      9789   Long Term        6860.0            10+ years   \n",
              "...                     ...         ...           ...                  ...   \n",
              "111102                15654   Long Term         686.0            10+ years   \n",
              "111103                15237  Short Term         706.0            10+ years   \n",
              "111104                10413  Short Term         719.0              5 years   \n",
              "111105                34447  Short Term         626.0            10+ years   \n",
              "111106                 9209   Long Term         708.0             < 1 year   \n",
              "\n",
              "       Home Ownership  Annual Income             Purpose Monthly Debt  \\\n",
              "0                Rent        46643.0  Debt Consolidation       777.39   \n",
              "1       Home Mortgage        81099.0  Debt Consolidation       892.09   \n",
              "2       Home Mortgage        60438.0   Home Improvements      1244.02   \n",
              "3                Rent        34171.0  Debt Consolidation       990.94   \n",
              "4       Home Mortgage        47003.0   Home Improvements       503.71   \n",
              "...               ...            ...                 ...          ...   \n",
              "111102           Rent        43050.0  Debt Consolidation       889.69   \n",
              "111103  Home Mortgage        60948.0  Debt Consolidation        700.9   \n",
              "111104  Home Mortgage        66945.0  Debt Consolidation      1210.59   \n",
              "111105  Home Mortgage        78736.0  Debt Consolidation       1476.3   \n",
              "111106       Own Home       123454.0  Debt Consolidation       668.71   \n",
              "\n",
              "        Years of Credit History  Months since last delinquent  \\\n",
              "0                          18.0                          10.0   \n",
              "1                          26.7                           NaN   \n",
              "2                          16.7                          32.0   \n",
              "3                          10.0                           NaN   \n",
              "4                          16.7                          25.0   \n",
              "...                         ...                           ...   \n",
              "111102                     14.1                          49.0   \n",
              "111103                     15.9                          48.0   \n",
              "111104                      8.7                           NaN   \n",
              "111105                     30.4                           9.0   \n",
              "111106                     20.1                          16.0   \n",
              "\n",
              "        Number of Open Accounts  Number of Credit Problems  \\\n",
              "0                            12                          0   \n",
              "1                            14                          0   \n",
              "2                            11                          1   \n",
              "3                            21                          0   \n",
              "4                            13                          1   \n",
              "...                         ...                        ...   \n",
              "111102                       18                          0   \n",
              "111103                       11                          0   \n",
              "111104                       11                          0   \n",
              "111105                       12                          0   \n",
              "111106                        8                          0   \n",
              "\n",
              "        Current Credit Balance Maximum Open Credit  Bankruptcies  Tax Liens  \n",
              "0                         6762                7946           0.0        0.0  \n",
              "1                        35706               77961           0.0        0.0  \n",
              "2                        11275               14815           1.0        0.0  \n",
              "3                         7009               43533           0.0        0.0  \n",
              "4                        16913               19553           1.0        0.0  \n",
              "...                        ...                 ...           ...        ...  \n",
              "111102                   14730               29757           0.0        0.0  \n",
              "111103                   17733               23060           0.0        0.0  \n",
              "111104                    5205                6348           0.0        0.0  \n",
              "111105                   32318               37580           0.0        0.0  \n",
              "111106                    6835                9261           0.0        0.0  \n",
              "\n",
              "[111107 rows x 19 columns]"
            ]
          },
          "execution_count": 15,
          "metadata": {},
          "output_type": "execute_result"
        }
      ],
      "source": [
        "data"
      ]
    },
    {
      "cell_type": "code",
      "execution_count": 16,
      "metadata": {
        "id": "V8UUzb1y3FnV"
      },
      "outputs": [],
      "source": [
        "##Drop the duplicates with respect to LOAN ID\n",
        "data.drop_duplicates(subset=\"Loan ID\",keep='first',inplace=True)"
      ]
    },
    {
      "cell_type": "code",
      "execution_count": 17,
      "metadata": {
        "colab": {
          "base_uri": "https://localhost:8080/",
          "height": 491
        },
        "id": "ISxmQNST3JHs",
        "outputId": "d4502c5b-6bff-40c3-f30a-0c0d4eecf89d"
      },
      "outputs": [
        {
          "data": {
            "image/png": "[encoded data removed]",
            "text/plain": [
              "<Figure size 1000x500 with 1 Axes>"
            ]
          },
          "metadata": {},
          "output_type": "display_data"
        }
      ],
      "source": [
        "##########Plotting the loan status\n",
        "status=data[\"Loan Status\"].value_counts()\n",
        "\n",
        "plt.figure(figsize=(10,5))\n",
        "sns.barplot(x=status.index, y=status.values, alpha=0.8)\n",
        "plt.title('Loan Status distribution')\n",
        "plt.ylabel('Number of Occurrences', fontsize=12)\n",
        "plt.xlabel('Loan Status', fontsize=12)\n",
        "plt.show()"
      ]
    },
    {
      "cell_type": "code",
      "execution_count": 18,
      "metadata": {
        "colab": {
          "base_uri": "https://localhost:8080/"
        },
        "id": "DgOWaS9A3SHA",
        "outputId": "c2aef2cd-f099-4594-a952-f1ae38d9907c"
      },
      "outputs": [
        {
          "name": "stdout",
          "output_type": "stream",
          "text": [
            "16202.0\n"
          ]
        }
      ],
      "source": [
        "#Finding IQR's for outlier removal\n",
        "\n",
        "Q1 = data[\"Current Loan Amount\"].quantile(0.25)\n",
        "Q3 = data[\"Current Loan Amount\"].quantile(0.75)\n",
        "IQR = Q3 - Q1\n",
        "print(IQR)"
      ]
    },
    {
      "cell_type": "code",
      "execution_count": 19,
      "metadata": {
        "colab": {
          "base_uri": "https://localhost:8080/",
          "height": 458
        },
        "id": "EUkGOb9T3Ur7",
        "outputId": "122fd761-55a6-4317-c184-7dd46f66a304"
      },
      "outputs": [
        {
          "data": {
            "text/html": [
              "<div>\n",
              "<style scoped>\n",
              "    .dataframe tbody tr th:only-of-type {\n",
              "        vertical-align: middle;\n",
              "    }\n",
              "\n",
              "    .dataframe tbody tr th {\n",
              "        vertical-align: top;\n",
              "    }\n",
              "\n",
              "    .dataframe thead th {\n",
              "        text-align: right;\n",
              "    }\n",
              "</style>\n",
              "<table border=\"1\" class=\"dataframe\">\n",
              "  <thead>\n",
              "    <tr style=\"text-align: right;\">\n",
              "      <th></th>\n",
              "      <th>Current Loan Amount</th>\n",
              "    </tr>\n",
              "  </thead>\n",
              "  <tbody>\n",
              "    <tr>\n",
              "      <th>5044</th>\n",
              "      <td>99999999</td>\n",
              "    </tr>\n",
              "    <tr>\n",
              "      <th>5045</th>\n",
              "      <td>99999999</td>\n",
              "    </tr>\n",
              "    <tr>\n",
              "      <th>5046</th>\n",
              "      <td>99999999</td>\n",
              "    </tr>\n",
              "    <tr>\n",
              "      <th>5047</th>\n",
              "      <td>99999999</td>\n",
              "    </tr>\n",
              "    <tr>\n",
              "      <th>5048</th>\n",
              "      <td>99999999</td>\n",
              "    </tr>\n",
              "    <tr>\n",
              "      <th>...</th>\n",
              "      <td>...</td>\n",
              "    </tr>\n",
              "    <tr>\n",
              "      <th>17777</th>\n",
              "      <td>99999999</td>\n",
              "    </tr>\n",
              "    <tr>\n",
              "      <th>17778</th>\n",
              "      <td>99999999</td>\n",
              "    </tr>\n",
              "    <tr>\n",
              "      <th>17779</th>\n",
              "      <td>99999999</td>\n",
              "    </tr>\n",
              "    <tr>\n",
              "      <th>17780</th>\n",
              "      <td>99999999</td>\n",
              "    </tr>\n",
              "    <tr>\n",
              "      <th>17781</th>\n",
              "      <td>99999999</td>\n",
              "    </tr>\n",
              "  </tbody>\n",
              "</table>\n",
              "<p>12738 rows × 1 columns</p>\n",
              "</div><br><label><b>dtype:</b> int64</label>"
            ],
            "text/plain": [
              "5044     99999999\n",
              "5045     99999999\n",
              "5046     99999999\n",
              "5047     99999999\n",
              "5048     99999999\n",
              "           ...   \n",
              "17777    99999999\n",
              "17778    99999999\n",
              "17779    99999999\n",
              "17780    99999999\n",
              "17781    99999999\n",
              "Name: Current Loan Amount, Length: 12738, dtype: int64"
            ]
          },
          "execution_count": 19,
          "metadata": {},
          "output_type": "execute_result"
        }
      ],
      "source": [
        "data[\"Current Loan Amount\"][((data[\"Current Loan Amount\"] < (Q1 - 1.5 * IQR)) |(data[\"Current Loan Amount\"] > (Q3 + 1.5 * IQR)))]"
      ]
    },
    {
      "cell_type": "code",
      "execution_count": 20,
      "metadata": {
        "id": "cGCHNHUt3axb"
      },
      "outputs": [],
      "source": [
        "# Replace > 9999998 with NAN values\n",
        "temp=np.array(data[\"Current Loan Amount\"].values.tolist())\n",
        "data[\"Current Loan Amount_temp\"] = np.where(temp > 9999998, 'NaN', temp).tolist()"
      ]
    },
    {
      "cell_type": "code",
      "execution_count": 21,
      "metadata": {
        "colab": {
          "base_uri": "https://localhost:8080/",
          "height": 748
        },
        "id": "yn6qEcfL3dPY",
        "outputId": "6170adcd-8126-4a4c-be86-b45e345ae285"
      },
      "outputs": [
        {
          "data": {
            "text/html": [
              "<div>\n",
              "<style scoped>\n",
              "    .dataframe tbody tr th:only-of-type {\n",
              "        vertical-align: middle;\n",
              "    }\n",
              "\n",
              "    .dataframe tbody tr th {\n",
              "        vertical-align: top;\n",
              "    }\n",
              "\n",
              "    .dataframe thead th {\n",
              "        text-align: right;\n",
              "    }\n",
              "</style>\n",
              "<table border=\"1\" class=\"dataframe\">\n",
              "  <thead>\n",
              "    <tr style=\"text-align: right;\">\n",
              "      <th></th>\n",
              "      <th>Current Loan Amount_temp</th>\n",
              "    </tr>\n",
              "  </thead>\n",
              "  <tbody>\n",
              "    <tr>\n",
              "      <th>count</th>\n",
              "      <td>76172.000000</td>\n",
              "    </tr>\n",
              "    <tr>\n",
              "      <th>mean</th>\n",
              "      <td>13933.915756</td>\n",
              "    </tr>\n",
              "    <tr>\n",
              "      <th>std</th>\n",
              "      <td>8235.921922</td>\n",
              "    </tr>\n",
              "    <tr>\n",
              "      <th>min</th>\n",
              "      <td>491.000000</td>\n",
              "    </tr>\n",
              "    <tr>\n",
              "      <th>25%</th>\n",
              "      <td>7810.000000</td>\n",
              "    </tr>\n",
              "    <tr>\n",
              "      <th>50%</th>\n",
              "      <td>12038.000000</td>\n",
              "    </tr>\n",
              "    <tr>\n",
              "      <th>75%</th>\n",
              "      <td>19351.000000</td>\n",
              "    </tr>\n",
              "    <tr>\n",
              "      <th>max</th>\n",
              "      <td>35875.000000</td>\n",
              "    </tr>\n",
              "  </tbody>\n",
              "</table>\n",
              "</div><br><label><b>dtype:</b> float64</label>"
            ],
            "text/plain": [
              "count    76172.000000\n",
              "mean     13933.915756\n",
              "std       8235.921922\n",
              "min        491.000000\n",
              "25%       7810.000000\n",
              "50%      12038.000000\n",
              "75%      19351.000000\n",
              "max      35875.000000\n",
              "Name: Current Loan Amount_temp, dtype: float64"
            ]
          },
          "execution_count": 21,
          "metadata": {},
          "output_type": "execute_result"
        },
        {
          "data": {
            "image/png": "[encoded data removed]",
            "text/plain": [
              "<Figure size 640x480 with 1 Axes>"
            ]
          },
          "metadata": {},
          "output_type": "display_data"
        }
      ],
      "source": [
        "temp=data[\"Current Loan Amount_temp\"][data[\"Current Loan Amount_temp\"]!='NaN'].astype(str).astype(int)\n",
        "temp.plot.hist(grid=True, bins=20, rwidth=0.9,\n",
        "                   color='#607c8e')\n",
        "\n",
        "temp.describe()\n"
      ]
    },
    {
      "cell_type": "code",
      "execution_count": 22,
      "metadata": {
        "id": "KTgdmyYf3h-P"
      },
      "outputs": [],
      "source": [
        "#Replacing the data with 50% percentile or mean\n",
        "temp=np.array(data[\"Current Loan Amount\"].values.tolist())\n",
        "data[\"Current Loan Amount\"] = np.where(temp > 9999998,12038,temp).tolist()\n",
        "\n",
        "data=data.drop(['Current Loan Amount_temp'],axis=1)"
      ]
    },
    {
      "cell_type": "code",
      "execution_count": 23,
      "metadata": {
        "colab": {
          "base_uri": "https://localhost:8080/",
          "height": 491
        },
        "id": "QknzhQ1j3jl5",
        "outputId": "83af2634-5e61-4b8f-d274-9a1accc00dab"
      },
      "outputs": [
        {
          "data": {
            "image/png": "[encoded data removed]",
            "text/plain": [
              "<Figure size 1000x500 with 1 Axes>"
            ]
          },
          "metadata": {},
          "output_type": "display_data"
        }
      ],
      "source": [
        "\n",
        "############Term ##############\n",
        "\n",
        "status=data[\"Term\"].value_counts()\n",
        "\n",
        "plt.figure(figsize=(10,5))\n",
        "sns.barplot(x=status.index, y=status.values, alpha=0.8)\n",
        "plt.title('Loan Term distribution')\n",
        "plt.ylabel('Number of Occurrences', fontsize=12)\n",
        "plt.xlabel('Loan term', fontsize=12)\n",
        "plt.show()\n"
      ]
    },
    {
      "cell_type": "code",
      "execution_count": 24,
      "metadata": {
        "colab": {
          "base_uri": "https://localhost:8080/",
          "height": 335
        },
        "id": "hbzQYXYMh7nk",
        "outputId": "f16e8037-9e41-4a80-c1aa-46aa2ad0c9f4"
      },
      "outputs": [
        {
          "data": {
            "text/html": [
              "<div>\n",
              "<style scoped>\n",
              "    .dataframe tbody tr th:only-of-type {\n",
              "        vertical-align: middle;\n",
              "    }\n",
              "\n",
              "    .dataframe tbody tr th {\n",
              "        vertical-align: top;\n",
              "    }\n",
              "\n",
              "    .dataframe thead th {\n",
              "        text-align: right;\n",
              "    }\n",
              "</style>\n",
              "<table border=\"1\" class=\"dataframe\">\n",
              "  <thead>\n",
              "    <tr style=\"text-align: right;\">\n",
              "      <th></th>\n",
              "      <th>Credit Score</th>\n",
              "    </tr>\n",
              "  </thead>\n",
              "  <tbody>\n",
              "    <tr>\n",
              "      <th>count</th>\n",
              "      <td>67572.000000</td>\n",
              "    </tr>\n",
              "    <tr>\n",
              "      <th>mean</th>\n",
              "      <td>1199.199580</td>\n",
              "    </tr>\n",
              "    <tr>\n",
              "      <th>std</th>\n",
              "      <td>1680.813805</td>\n",
              "    </tr>\n",
              "    <tr>\n",
              "      <th>min</th>\n",
              "      <td>585.000000</td>\n",
              "    </tr>\n",
              "    <tr>\n",
              "      <th>25%</th>\n",
              "      <td>714.000000</td>\n",
              "    </tr>\n",
              "    <tr>\n",
              "      <th>50%</th>\n",
              "      <td>733.000000</td>\n",
              "    </tr>\n",
              "    <tr>\n",
              "      <th>75%</th>\n",
              "      <td>744.000000</td>\n",
              "    </tr>\n",
              "    <tr>\n",
              "      <th>max</th>\n",
              "      <td>7510.000000</td>\n",
              "    </tr>\n",
              "  </tbody>\n",
              "</table>\n",
              "</div><br><label><b>dtype:</b> float64</label>"
            ],
            "text/plain": [
              "count    67572.000000\n",
              "mean      1199.199580\n",
              "std       1680.813805\n",
              "min        585.000000\n",
              "25%        714.000000\n",
              "50%        733.000000\n",
              "75%        744.000000\n",
              "max       7510.000000\n",
              "Name: Credit Score, dtype: float64"
            ]
          },
          "execution_count": 24,
          "metadata": {},
          "output_type": "execute_result"
        }
      ],
      "source": [
        "#####Credit Score#############\n",
        "\n",
        "##Max is 7510. It should be between 0-800\n",
        "\n",
        "data[\"Credit Score\"].describe()"
      ]
    },
    {
      "cell_type": "code",
      "execution_count": 25,
      "metadata": {
        "colab": {
          "base_uri": "https://localhost:8080/",
          "height": 466
        },
        "id": "bS39361Q3oW9",
        "outputId": "c42ae25b-3284-4851-ae5e-84a4de87c9ca"
      },
      "outputs": [
        {
          "data": {
            "text/plain": [
              "<Axes: xlabel='Credit Score'>"
            ]
          },
          "execution_count": 25,
          "metadata": {},
          "output_type": "execute_result"
        },
        {
          "data": {
            "image/png": "[encoded data removed]",
            "text/plain": [
              "<Figure size 640x480 with 1 Axes>"
            ]
          },
          "metadata": {},
          "output_type": "display_data"
        }
      ],
      "source": [
        "\n",
        "sns.boxplot(x=data[\"Credit Score\"])"
      ]
    },
    {
      "cell_type": "code",
      "execution_count": 26,
      "metadata": {
        "colab": {
          "base_uri": "https://localhost:8080/"
        },
        "id": "wtRdm_KB3qU4",
        "outputId": "af70d251-b4eb-417e-9875-034d0703e074"
      },
      "outputs": [
        {
          "data": {
            "text/plain": [
              "21338"
            ]
          },
          "execution_count": 26,
          "metadata": {},
          "output_type": "execute_result"
        }
      ],
      "source": [
        "data[\"Credit Score\"].isnull().sum()\n"
      ]
    },
    {
      "cell_type": "code",
      "execution_count": 27,
      "metadata": {
        "id": "_GR08d3O3uJa"
      },
      "outputs": [],
      "source": [
        "# Dividing the values greater than 800 by 10\n",
        "\n",
        "data[\"Credit Score\"]=np.where(data[\"Credit Score\"]>800, data[\"Credit Score\"]/10, data[\"Credit Score\"])\n"
      ]
    },
    {
      "cell_type": "code",
      "execution_count": 28,
      "metadata": {
        "colab": {
          "base_uri": "https://localhost:8080/",
          "height": 467
        },
        "id": "NXGFnB8A31ML",
        "outputId": "2008054d-c092-460e-fdf2-793ce8b3e548"
      },
      "outputs": [
        {
          "data": {
            "text/plain": [
              "<Axes: xlabel='Credit Score_1', ylabel='Density'>"
            ]
          },
          "execution_count": 28,
          "metadata": {},
          "output_type": "execute_result"
        },
        {
          "data": {
            "image/png": "[encoded data removed]",
            "text/plain": [
              "<Figure size 640x480 with 1 Axes>"
            ]
          },
          "metadata": {},
          "output_type": "display_data"
        }
      ],
      "source": [
        "# Replacing the missing values with median\n",
        "median_score=statistics.median(data[\"Credit Score\"])\n",
        "\n",
        "data[\"Credit Score_1\"]=data[\"Credit Score\"]\n",
        "data[\"Credit Score_1\"].fillna(median_score, inplace = True)\n",
        "\n",
        "sns.distplot(data[\"Credit Score_1\"])\n"
      ]
    },
    {
      "cell_type": "code",
      "execution_count": 29,
      "metadata": {
        "colab": {
          "base_uri": "https://localhost:8080/",
          "height": 466
        },
        "id": "zWWkfxDS34kb",
        "outputId": "488294d8-c975-48a1-a56a-0a155daf48ff"
      },
      "outputs": [
        {
          "data": {
            "text/plain": [
              "<Axes: xlabel='Credit Score', ylabel='Density'>"
            ]
          },
          "execution_count": 29,
          "metadata": {},
          "output_type": "execute_result"
        },
        {
          "data": {
            "image/png": "[encoded data removed]",
            "text/plain": [
              "<Figure size 640x480 with 1 Axes>"
            ]
          },
          "metadata": {},
          "output_type": "display_data"
        }
      ],
      "source": [
        "#As the data is skewed, replacing it with median is giving problems.\n",
        "#Replacing with 75th percentile and taking log will give a better distribution\n",
        "\n",
        "\n",
        "data[\"Credit Score\"].fillna(741, inplace = True)\n",
        "\n",
        "sns.distplot(data[\"Credit Score\"])\n",
        "sns.distplot(np.log(data[\"Credit Score\"]))"
      ]
    },
    {
      "cell_type": "code",
      "execution_count": 30,
      "metadata": {
        "colab": {
          "base_uri": "https://localhost:8080/"
        },
        "id": "D11ymr5s4A-D",
        "outputId": "62474ca8-a42e-47e2-b6c2-693a510d4bf9"
      },
      "outputs": [
        {
          "data": {
            "text/plain": [
              "array(['Rent', 'Home Mortgage', 'Own Home', 'HaveMortgage'], dtype=object)"
            ]
          },
          "execution_count": 30,
          "metadata": {},
          "output_type": "execute_result"
        }
      ],
      "source": [
        "data['Home Ownership'].unique()\n",
        "#It has Home Mortgage and haveMortgage as 2 different classes."
      ]
    },
    {
      "cell_type": "code",
      "execution_count": 31,
      "metadata": {
        "colab": {
          "base_uri": "https://localhost:8080/"
        },
        "id": "e8YuSicr4CtN",
        "outputId": "bb4292c8-2f60-4d29-a380-9285453ba095"
      },
      "outputs": [
        {
          "data": {
            "text/plain": [
              "array(['Rent', 'Home Mortgage', 'Own Home'], dtype=object)"
            ]
          },
          "execution_count": 31,
          "metadata": {},
          "output_type": "execute_result"
        }
      ],
      "source": [
        "data['Home Ownership']=data['Home Ownership'].str.replace('HaveMortgage', 'Home Mortgage', regex=True)\n",
        "\n",
        "data['Home Ownership'].unique()\n"
      ]
    },
    {
      "cell_type": "code",
      "execution_count": 32,
      "metadata": {
        "colab": {
          "base_uri": "https://localhost:8080/",
          "height": 335
        },
        "id": "7G_DhsWC4ICh",
        "outputId": "0f97a08b-6344-404c-cf3b-fdde6e2892ff"
      },
      "outputs": [
        {
          "data": {
            "text/html": [
              "<div>\n",
              "<style scoped>\n",
              "    .dataframe tbody tr th:only-of-type {\n",
              "        vertical-align: middle;\n",
              "    }\n",
              "\n",
              "    .dataframe tbody tr th {\n",
              "        vertical-align: top;\n",
              "    }\n",
              "\n",
              "    .dataframe thead th {\n",
              "        text-align: right;\n",
              "    }\n",
              "</style>\n",
              "<table border=\"1\" class=\"dataframe\">\n",
              "  <thead>\n",
              "    <tr style=\"text-align: right;\">\n",
              "      <th></th>\n",
              "      <th>Annual Income</th>\n",
              "    </tr>\n",
              "  </thead>\n",
              "  <tbody>\n",
              "    <tr>\n",
              "      <th>count</th>\n",
              "      <td>6.757200e+04</td>\n",
              "    </tr>\n",
              "    <tr>\n",
              "      <th>mean</th>\n",
              "      <td>7.234575e+04</td>\n",
              "    </tr>\n",
              "    <tr>\n",
              "      <th>std</th>\n",
              "      <td>5.836101e+04</td>\n",
              "    </tr>\n",
              "    <tr>\n",
              "      <th>min</th>\n",
              "      <td>4.033000e+03</td>\n",
              "    </tr>\n",
              "    <tr>\n",
              "      <th>25%</th>\n",
              "      <td>4.458600e+04</td>\n",
              "    </tr>\n",
              "    <tr>\n",
              "      <th>50%</th>\n",
              "      <td>6.149400e+04</td>\n",
              "    </tr>\n",
              "    <tr>\n",
              "      <th>75%</th>\n",
              "      <td>8.675025e+04</td>\n",
              "    </tr>\n",
              "    <tr>\n",
              "      <th>max</th>\n",
              "      <td>8.713547e+06</td>\n",
              "    </tr>\n",
              "  </tbody>\n",
              "</table>\n",
              "</div><br><label><b>dtype:</b> float64</label>"
            ],
            "text/plain": [
              "count    6.757200e+04\n",
              "mean     7.234575e+04\n",
              "std      5.836101e+04\n",
              "min      4.033000e+03\n",
              "25%      4.458600e+04\n",
              "50%      6.149400e+04\n",
              "75%      8.675025e+04\n",
              "max      8.713547e+06\n",
              "Name: Annual Income, dtype: float64"
            ]
          },
          "execution_count": 32,
          "metadata": {},
          "output_type": "execute_result"
        }
      ],
      "source": [
        "##################Annual Income######################\n",
        "data['Annual Income'].describe()\n"
      ]
    },
    {
      "cell_type": "code",
      "execution_count": 33,
      "metadata": {
        "colab": {
          "base_uri": "https://localhost:8080/",
          "height": 272
        },
        "id": "0GnaT47z4J7w",
        "outputId": "3669100b-ff01-4170-c14d-4c48931a22e1"
      },
      "outputs": [
        {
          "data": {
            "text/html": [
              "<div>\n",
              "<style scoped>\n",
              "    .dataframe tbody tr th:only-of-type {\n",
              "        vertical-align: middle;\n",
              "    }\n",
              "\n",
              "    .dataframe tbody tr th {\n",
              "        vertical-align: top;\n",
              "    }\n",
              "\n",
              "    .dataframe thead th {\n",
              "        text-align: right;\n",
              "    }\n",
              "</style>\n",
              "<table border=\"1\" class=\"dataframe\">\n",
              "  <thead>\n",
              "    <tr style=\"text-align: right;\">\n",
              "      <th></th>\n",
              "      <th>Annual Income</th>\n",
              "    </tr>\n",
              "  </thead>\n",
              "  <tbody>\n",
              "    <tr>\n",
              "      <th>0.200</th>\n",
              "      <td>40764.00</td>\n",
              "    </tr>\n",
              "    <tr>\n",
              "      <th>0.750</th>\n",
              "      <td>86750.25</td>\n",
              "    </tr>\n",
              "    <tr>\n",
              "      <th>0.900</th>\n",
              "      <td>119916.00</td>\n",
              "    </tr>\n",
              "    <tr>\n",
              "      <th>0.950</th>\n",
              "      <td>147645.00</td>\n",
              "    </tr>\n",
              "    <tr>\n",
              "      <th>0.990</th>\n",
              "      <td>239286.96</td>\n",
              "    </tr>\n",
              "    <tr>\n",
              "      <th>0.999</th>\n",
              "      <td>491575.77</td>\n",
              "    </tr>\n",
              "  </tbody>\n",
              "</table>\n",
              "</div><br><label><b>dtype:</b> float64</label>"
            ],
            "text/plain": [
              "0.200     40764.00\n",
              "0.750     86750.25\n",
              "0.900    119916.00\n",
              "0.950    147645.00\n",
              "0.990    239286.96\n",
              "0.999    491575.77\n",
              "Name: Annual Income, dtype: float64"
            ]
          },
          "execution_count": 33,
          "metadata": {},
          "output_type": "execute_result"
        }
      ],
      "source": [
        "## Quantiles of this columns\n",
        "\n",
        "data['Annual Income'].quantile([.2,0.75,0.90,.95,0.99,.999])\n"
      ]
    },
    {
      "cell_type": "code",
      "execution_count": 34,
      "metadata": {
        "colab": {
          "base_uri": "https://localhost:8080/"
        },
        "id": "OeXP1lAj4Ngp",
        "outputId": "eeb211dc-01b8-4891-da27-4a866aa68e1f"
      },
      "outputs": [
        {
          "data": {
            "text/plain": [
              "21338"
            ]
          },
          "execution_count": 34,
          "metadata": {},
          "output_type": "execute_result"
        }
      ],
      "source": [
        "# Capping any values greater than 99% to 99th value\n",
        "data.loc[data['Annual Income'] > 239287, 'Annual Income'] = 239287\n",
        "\n",
        "\n",
        "data['Annual Income'].isna().sum()\n"
      ]
    },
    {
      "cell_type": "code",
      "execution_count": 35,
      "metadata": {
        "colab": {
          "base_uri": "https://localhost:8080/",
          "height": 585
        },
        "id": "KmJY2oBj4Y84",
        "outputId": "f971eec2-c8f9-4f7a-951a-14aec2bc7f4f"
      },
      "outputs": [
        {
          "data": {
            "text/html": [
              "<div>\n",
              "<style scoped>\n",
              "    .dataframe tbody tr th:only-of-type {\n",
              "        vertical-align: middle;\n",
              "    }\n",
              "\n",
              "    .dataframe tbody tr th {\n",
              "        vertical-align: top;\n",
              "    }\n",
              "\n",
              "    .dataframe thead th {\n",
              "        text-align: right;\n",
              "    }\n",
              "</style>\n",
              "<table border=\"1\" class=\"dataframe\">\n",
              "  <thead>\n",
              "    <tr style=\"text-align: right;\">\n",
              "      <th></th>\n",
              "      <th>Purpose</th>\n",
              "    </tr>\n",
              "  </thead>\n",
              "  <tbody>\n",
              "    <tr>\n",
              "      <th>Debt Consolidation</th>\n",
              "      <td>70447</td>\n",
              "    </tr>\n",
              "    <tr>\n",
              "      <th>Home Improvements</th>\n",
              "      <td>5206</td>\n",
              "    </tr>\n",
              "    <tr>\n",
              "      <th>other</th>\n",
              "      <td>4917</td>\n",
              "    </tr>\n",
              "    <tr>\n",
              "      <th>Other</th>\n",
              "      <td>2850</td>\n",
              "    </tr>\n",
              "    <tr>\n",
              "      <th>Business Loan</th>\n",
              "      <td>1328</td>\n",
              "    </tr>\n",
              "    <tr>\n",
              "      <th>Buy a Car</th>\n",
              "      <td>1196</td>\n",
              "    </tr>\n",
              "    <tr>\n",
              "      <th>Medical Bills</th>\n",
              "      <td>955</td>\n",
              "    </tr>\n",
              "    <tr>\n",
              "      <th>Buy House</th>\n",
              "      <td>559</td>\n",
              "    </tr>\n",
              "    <tr>\n",
              "      <th>Take a Trip</th>\n",
              "      <td>454</td>\n",
              "    </tr>\n",
              "    <tr>\n",
              "      <th>major_purchase</th>\n",
              "      <td>344</td>\n",
              "    </tr>\n",
              "    <tr>\n",
              "      <th>small_business</th>\n",
              "      <td>248</td>\n",
              "    </tr>\n",
              "    <tr>\n",
              "      <th>moving</th>\n",
              "      <td>124</td>\n",
              "    </tr>\n",
              "    <tr>\n",
              "      <th>wedding</th>\n",
              "      <td>99</td>\n",
              "    </tr>\n",
              "    <tr>\n",
              "      <th>Educational Expenses</th>\n",
              "      <td>92</td>\n",
              "    </tr>\n",
              "    <tr>\n",
              "      <th>vacation</th>\n",
              "      <td>82</td>\n",
              "    </tr>\n",
              "    <tr>\n",
              "      <th>renewable_energy</th>\n",
              "      <td>9</td>\n",
              "    </tr>\n",
              "  </tbody>\n",
              "</table>\n",
              "</div><br><label><b>dtype:</b> int64</label>"
            ],
            "text/plain": [
              "Debt Consolidation      70447\n",
              "Home Improvements        5206\n",
              "other                    4917\n",
              "Other                    2850\n",
              "Business Loan            1328\n",
              "Buy a Car                1196\n",
              "Medical Bills             955\n",
              "Buy House                 559\n",
              "Take a Trip               454\n",
              "major_purchase            344\n",
              "small_business            248\n",
              "moving                    124\n",
              "wedding                    99\n",
              "Educational Expenses       92\n",
              "vacation                   82\n",
              "renewable_energy            9\n",
              "Name: Purpose, dtype: int64"
            ]
          },
          "execution_count": 35,
          "metadata": {},
          "output_type": "execute_result"
        }
      ],
      "source": [
        "###############Loan Purpose ###############\n",
        "\n",
        "data['Purpose'].value_counts()\n",
        "# 'other' and 'Other' mean the same thing."
      ]
    },
    {
      "cell_type": "code",
      "execution_count": 36,
      "metadata": {
        "id": "cJbaQeO14aUH"
      },
      "outputs": [],
      "source": [
        "data['Purpose']=data['Purpose'].str.replace('Other', 'other', regex=True)"
      ]
    },
    {
      "cell_type": "code",
      "execution_count": 37,
      "metadata": {
        "colab": {
          "base_uri": "https://localhost:8080/",
          "height": 209
        },
        "id": "w212J-Vs4eQ_",
        "outputId": "1b871780-7ecf-499b-9956-13ddf8b24181"
      },
      "outputs": [
        {
          "data": {
            "text/html": [
              "<div>\n",
              "<style scoped>\n",
              "    .dataframe tbody tr th:only-of-type {\n",
              "        vertical-align: middle;\n",
              "    }\n",
              "\n",
              "    .dataframe tbody tr th {\n",
              "        vertical-align: top;\n",
              "    }\n",
              "\n",
              "    .dataframe thead th {\n",
              "        text-align: right;\n",
              "    }\n",
              "</style>\n",
              "<table border=\"1\" class=\"dataframe\">\n",
              "  <thead>\n",
              "    <tr style=\"text-align: right;\">\n",
              "      <th></th>\n",
              "      <th>Monthly Debt</th>\n",
              "    </tr>\n",
              "  </thead>\n",
              "  <tbody>\n",
              "    <tr>\n",
              "      <th>count</th>\n",
              "      <td>88910</td>\n",
              "    </tr>\n",
              "    <tr>\n",
              "      <th>unique</th>\n",
              "      <td>76609</td>\n",
              "    </tr>\n",
              "    <tr>\n",
              "      <th>top</th>\n",
              "      <td>0</td>\n",
              "    </tr>\n",
              "    <tr>\n",
              "      <th>freq</th>\n",
              "      <td>55</td>\n",
              "    </tr>\n",
              "  </tbody>\n",
              "</table>\n",
              "</div><br><label><b>dtype:</b> object</label>"
            ],
            "text/plain": [
              "count     88910\n",
              "unique    76609\n",
              "top           0\n",
              "freq         55\n",
              "Name: Monthly Debt, dtype: object"
            ]
          },
          "execution_count": 37,
          "metadata": {},
          "output_type": "execute_result"
        }
      ],
      "source": [
        "#######Monthly debt ###############\n",
        "\n",
        "\n",
        "data['Monthly Debt'].describe()\n",
        "##This is not numeric column.\n"
      ]
    },
    {
      "cell_type": "code",
      "execution_count": 38,
      "metadata": {
        "colab": {
          "base_uri": "https://localhost:8080/",
          "height": 458
        },
        "id": "4Vbj663K4ix1",
        "outputId": "49261eaa-ebee-4551-def0-7fc005c5ff44"
      },
      "outputs": [
        {
          "data": {
            "text/html": [
              "<div>\n",
              "<style scoped>\n",
              "    .dataframe tbody tr th:only-of-type {\n",
              "        vertical-align: middle;\n",
              "    }\n",
              "\n",
              "    .dataframe tbody tr th {\n",
              "        vertical-align: top;\n",
              "    }\n",
              "\n",
              "    .dataframe thead th {\n",
              "        text-align: right;\n",
              "    }\n",
              "</style>\n",
              "<table border=\"1\" class=\"dataframe\">\n",
              "  <thead>\n",
              "    <tr style=\"text-align: right;\">\n",
              "      <th></th>\n",
              "      <th>Monthly Debt</th>\n",
              "    </tr>\n",
              "  </thead>\n",
              "  <tbody>\n",
              "    <tr>\n",
              "      <th>0</th>\n",
              "      <td>777.39</td>\n",
              "    </tr>\n",
              "    <tr>\n",
              "      <th>1</th>\n",
              "      <td>892.09</td>\n",
              "    </tr>\n",
              "    <tr>\n",
              "      <th>2</th>\n",
              "      <td>1244.02</td>\n",
              "    </tr>\n",
              "    <tr>\n",
              "      <th>3</th>\n",
              "      <td>990.94</td>\n",
              "    </tr>\n",
              "    <tr>\n",
              "      <th>4</th>\n",
              "      <td>503.71</td>\n",
              "    </tr>\n",
              "    <tr>\n",
              "      <th>...</th>\n",
              "      <td>...</td>\n",
              "    </tr>\n",
              "    <tr>\n",
              "      <th>88905</th>\n",
              "      <td>567.62</td>\n",
              "    </tr>\n",
              "    <tr>\n",
              "      <th>88906</th>\n",
              "      <td>2508.63</td>\n",
              "    </tr>\n",
              "    <tr>\n",
              "      <th>88907</th>\n",
              "      <td>818.2</td>\n",
              "    </tr>\n",
              "    <tr>\n",
              "      <th>88908</th>\n",
              "      <td>360.17</td>\n",
              "    </tr>\n",
              "    <tr>\n",
              "      <th>88909</th>\n",
              "      <td>749.13</td>\n",
              "    </tr>\n",
              "  </tbody>\n",
              "</table>\n",
              "<p>88910 rows × 1 columns</p>\n",
              "</div><br><label><b>dtype:</b> object</label>"
            ],
            "text/plain": [
              "0         777.39\n",
              "1         892.09\n",
              "2        1244.02\n",
              "3         990.94\n",
              "4         503.71\n",
              "          ...   \n",
              "88905     567.62\n",
              "88906    2508.63\n",
              "88907      818.2\n",
              "88908     360.17\n",
              "88909     749.13\n",
              "Name: Monthly Debt, Length: 88910, dtype: object"
            ]
          },
          "execution_count": 38,
          "metadata": {},
          "output_type": "execute_result"
        }
      ],
      "source": [
        "data['Monthly Debt']\n",
        "# But this should be a numeric column. Converting it to float\n"
      ]
    },
    {
      "cell_type": "code",
      "execution_count": 40,
      "metadata": {
        "colab": {
          "base_uri": "https://localhost:8080/"
        },
        "id": "bi7noVSMh7nn",
        "outputId": "918b0e51-7675-4c59-a84b-d6e1829b4899"
      },
      "outputs": [
        {
          "data": {
            "text/plain": [
              "array(['777.39', '892.09', '1244.02', ..., 2508.63, 818.2, 360.17],\n",
              "      dtype=object)"
            ]
          },
          "execution_count": 40,
          "metadata": {},
          "output_type": "execute_result"
        }
      ],
      "source": [
        "data['Monthly Debt'].unique()"
      ]
    },
    {
      "cell_type": "code",
      "execution_count": 41,
      "metadata": {
        "id": "eKoFCjtr4sEC"
      },
      "outputs": [],
      "source": [
        "data['Monthly Debt']=data['Monthly Debt'].str.replace('$', '')\n"
      ]
    },
    {
      "cell_type": "code",
      "execution_count": 42,
      "metadata": {
        "colab": {
          "base_uri": "https://localhost:8080/",
          "height": 466
        },
        "id": "1xPh72I1h7no",
        "outputId": "d5e33443-8f8d-4222-a033-cd7730f4d9f7"
      },
      "outputs": [
        {
          "data": {
            "text/plain": [
              "<Axes: xlabel='Monthly Debt', ylabel='Density'>"
            ]
          },
          "execution_count": 42,
          "metadata": {},
          "output_type": "execute_result"
        },
        {
          "data": {
            "image/png": "[encoded data removed]",
            "text/plain": [
              "<Figure size 640x480 with 1 Axes>"
            ]
          },
          "metadata": {},
          "output_type": "display_data"
        }
      ],
      "source": [
        "data['Monthly Debt']=pd.to_numeric(data['Monthly Debt'] )\n",
        "\n",
        "sns.distplot(data[\"Monthly Debt\"])"
      ]
    },
    {
      "cell_type": "code",
      "execution_count": 43,
      "metadata": {
        "colab": {
          "base_uri": "https://localhost:8080/",
          "height": 335
        },
        "id": "cMxKo5zX5Mnr",
        "outputId": "270a60cb-0d19-4b29-eafa-5350f96e66d3"
      },
      "outputs": [
        {
          "data": {
            "text/html": [
              "<div>\n",
              "<style scoped>\n",
              "    .dataframe tbody tr th:only-of-type {\n",
              "        vertical-align: middle;\n",
              "    }\n",
              "\n",
              "    .dataframe tbody tr th {\n",
              "        vertical-align: top;\n",
              "    }\n",
              "\n",
              "    .dataframe thead th {\n",
              "        text-align: right;\n",
              "    }\n",
              "</style>\n",
              "<table border=\"1\" class=\"dataframe\">\n",
              "  <thead>\n",
              "    <tr style=\"text-align: right;\">\n",
              "      <th></th>\n",
              "      <th>Monthly Debt</th>\n",
              "    </tr>\n",
              "  </thead>\n",
              "  <tbody>\n",
              "    <tr>\n",
              "      <th>count</th>\n",
              "      <td>65536.000000</td>\n",
              "    </tr>\n",
              "    <tr>\n",
              "      <th>mean</th>\n",
              "      <td>962.406632</td>\n",
              "    </tr>\n",
              "    <tr>\n",
              "      <th>std</th>\n",
              "      <td>632.799593</td>\n",
              "    </tr>\n",
              "    <tr>\n",
              "      <th>min</th>\n",
              "      <td>0.000000</td>\n",
              "    </tr>\n",
              "    <tr>\n",
              "      <th>25%</th>\n",
              "      <td>532.250000</td>\n",
              "    </tr>\n",
              "    <tr>\n",
              "      <th>50%</th>\n",
              "      <td>843.770000</td>\n",
              "    </tr>\n",
              "    <tr>\n",
              "      <th>75%</th>\n",
              "      <td>1251.342500</td>\n",
              "    </tr>\n",
              "    <tr>\n",
              "      <th>max</th>\n",
              "      <td>12055.680000</td>\n",
              "    </tr>\n",
              "  </tbody>\n",
              "</table>\n",
              "</div><br><label><b>dtype:</b> float64</label>"
            ],
            "text/plain": [
              "count    65536.000000\n",
              "mean       962.406632\n",
              "std        632.799593\n",
              "min          0.000000\n",
              "25%        532.250000\n",
              "50%        843.770000\n",
              "75%       1251.342500\n",
              "max      12055.680000\n",
              "Name: Monthly Debt, dtype: float64"
            ]
          },
          "execution_count": 43,
          "metadata": {},
          "output_type": "execute_result"
        }
      ],
      "source": [
        "#There are outliers in this data\n",
        "\n",
        "data['Monthly Debt'].describe()\n",
        "#The max value is too high here\n"
      ]
    },
    {
      "cell_type": "code",
      "execution_count": 44,
      "metadata": {
        "colab": {
          "base_uri": "https://localhost:8080/",
          "height": 272
        },
        "id": "H2o1-coN5QAM",
        "outputId": "5f18a800-8155-49bc-8c3f-06311957e1ca"
      },
      "outputs": [
        {
          "data": {
            "text/html": [
              "<div>\n",
              "<style scoped>\n",
              "    .dataframe tbody tr th:only-of-type {\n",
              "        vertical-align: middle;\n",
              "    }\n",
              "\n",
              "    .dataframe tbody tr th {\n",
              "        vertical-align: top;\n",
              "    }\n",
              "\n",
              "    .dataframe thead th {\n",
              "        text-align: right;\n",
              "    }\n",
              "</style>\n",
              "<table border=\"1\" class=\"dataframe\">\n",
              "  <thead>\n",
              "    <tr style=\"text-align: right;\">\n",
              "      <th></th>\n",
              "      <th>Monthly Debt</th>\n",
              "    </tr>\n",
              "  </thead>\n",
              "  <tbody>\n",
              "    <tr>\n",
              "      <th>0.200</th>\n",
              "      <td>464.21000</td>\n",
              "    </tr>\n",
              "    <tr>\n",
              "      <th>0.750</th>\n",
              "      <td>1251.34250</td>\n",
              "    </tr>\n",
              "    <tr>\n",
              "      <th>0.900</th>\n",
              "      <td>1740.35000</td>\n",
              "    </tr>\n",
              "    <tr>\n",
              "      <th>0.950</th>\n",
              "      <td>2112.21000</td>\n",
              "    </tr>\n",
              "    <tr>\n",
              "      <th>0.990</th>\n",
              "      <td>3084.08600</td>\n",
              "    </tr>\n",
              "    <tr>\n",
              "      <th>0.999</th>\n",
              "      <td>4927.21625</td>\n",
              "    </tr>\n",
              "  </tbody>\n",
              "</table>\n",
              "</div><br><label><b>dtype:</b> float64</label>"
            ],
            "text/plain": [
              "0.200     464.21000\n",
              "0.750    1251.34250\n",
              "0.900    1740.35000\n",
              "0.950    2112.21000\n",
              "0.990    3084.08600\n",
              "0.999    4927.21625\n",
              "Name: Monthly Debt, dtype: float64"
            ]
          },
          "execution_count": 44,
          "metadata": {},
          "output_type": "execute_result"
        }
      ],
      "source": [
        "data['Monthly Debt'].quantile([.2,0.75,0.90,.95,0.99,.999])\n"
      ]
    },
    {
      "cell_type": "code",
      "execution_count": 45,
      "metadata": {
        "colab": {
          "base_uri": "https://localhost:8080/",
          "height": 147
        },
        "id": "kuo8L4XO5TFE",
        "outputId": "5d1bc8ce-55db-4adb-fa1e-ba43b0bd2d15"
      },
      "outputs": [
        {
          "data": {
            "text/html": [
              "<div>\n",
              "<style scoped>\n",
              "    .dataframe tbody tr th:only-of-type {\n",
              "        vertical-align: middle;\n",
              "    }\n",
              "\n",
              "    .dataframe tbody tr th {\n",
              "        vertical-align: top;\n",
              "    }\n",
              "\n",
              "    .dataframe thead th {\n",
              "        text-align: right;\n",
              "    }\n",
              "</style>\n",
              "<table border=\"1\" class=\"dataframe\">\n",
              "  <thead>\n",
              "    <tr style=\"text-align: right;\">\n",
              "      <th></th>\n",
              "      <th>Monthly Debt</th>\n",
              "    </tr>\n",
              "  </thead>\n",
              "  <tbody>\n",
              "    <tr>\n",
              "      <th>0.9995</th>\n",
              "      <td>5513.352425</td>\n",
              "    </tr>\n",
              "    <tr>\n",
              "      <th>0.9999</th>\n",
              "      <td>7719.187600</td>\n",
              "    </tr>\n",
              "  </tbody>\n",
              "</table>\n",
              "</div><br><label><b>dtype:</b> float64</label>"
            ],
            "text/plain": [
              "0.9995    5513.352425\n",
              "0.9999    7719.187600\n",
              "Name: Monthly Debt, dtype: float64"
            ]
          },
          "execution_count": 45,
          "metadata": {},
          "output_type": "execute_result"
        }
      ],
      "source": [
        "#Problem is with 99th percentile.\n",
        "\n",
        "data['Monthly Debt'].quantile([0.9995,.9999])\n"
      ]
    },
    {
      "cell_type": "code",
      "execution_count": 46,
      "metadata": {
        "colab": {
          "base_uri": "https://localhost:8080/",
          "height": 147
        },
        "id": "5jmNMF-q5U4V",
        "outputId": "9fdeb70d-ac35-489f-9b17-74f98f2cc526"
      },
      "outputs": [
        {
          "data": {
            "text/html": [
              "<div>\n",
              "<style scoped>\n",
              "    .dataframe tbody tr th:only-of-type {\n",
              "        vertical-align: middle;\n",
              "    }\n",
              "\n",
              "    .dataframe tbody tr th {\n",
              "        vertical-align: top;\n",
              "    }\n",
              "\n",
              "    .dataframe thead th {\n",
              "        text-align: right;\n",
              "    }\n",
              "</style>\n",
              "<table border=\"1\" class=\"dataframe\">\n",
              "  <thead>\n",
              "    <tr style=\"text-align: right;\">\n",
              "      <th></th>\n",
              "      <th>Monthly Debt</th>\n",
              "    </tr>\n",
              "  </thead>\n",
              "  <tbody>\n",
              "    <tr>\n",
              "      <th>0.99970</th>\n",
              "      <td>5979.063765</td>\n",
              "    </tr>\n",
              "    <tr>\n",
              "      <th>0.99999</th>\n",
              "      <td>11253.511940</td>\n",
              "    </tr>\n",
              "  </tbody>\n",
              "</table>\n",
              "</div><br><label><b>dtype:</b> float64</label>"
            ],
            "text/plain": [
              "0.99970     5979.063765\n",
              "0.99999    11253.511940\n",
              "Name: Monthly Debt, dtype: float64"
            ]
          },
          "execution_count": 46,
          "metadata": {},
          "output_type": "execute_result"
        }
      ],
      "source": [
        "data['Monthly Debt'].quantile([0.9997,.99999])\n",
        "#0.99970     5978.574911\n",
        "#0.99999    13262.762330\n"
      ]
    },
    {
      "cell_type": "code",
      "execution_count": 47,
      "metadata": {
        "colab": {
          "base_uri": "https://localhost:8080/",
          "height": 147
        },
        "id": "XDVLS5Iv5XCJ",
        "outputId": "fc0fa693-b8b5-49f7-b48e-c577a4983faf"
      },
      "outputs": [
        {
          "data": {
            "text/html": [
              "<div>\n",
              "<style scoped>\n",
              "    .dataframe tbody tr th:only-of-type {\n",
              "        vertical-align: middle;\n",
              "    }\n",
              "\n",
              "    .dataframe tbody tr th {\n",
              "        vertical-align: top;\n",
              "    }\n",
              "\n",
              "    .dataframe thead th {\n",
              "        text-align: right;\n",
              "    }\n",
              "</style>\n",
              "<table border=\"1\" class=\"dataframe\">\n",
              "  <thead>\n",
              "    <tr style=\"text-align: right;\">\n",
              "      <th></th>\n",
              "      <th>Monthly Debt</th>\n",
              "    </tr>\n",
              "  </thead>\n",
              "  <tbody>\n",
              "    <tr>\n",
              "      <th>0.999</th>\n",
              "      <td>4927.21625</td>\n",
              "    </tr>\n",
              "    <tr>\n",
              "      <th>1.000</th>\n",
              "      <td>12055.68000</td>\n",
              "    </tr>\n",
              "  </tbody>\n",
              "</table>\n",
              "</div><br><label><b>dtype:</b> float64</label>"
            ],
            "text/plain": [
              "0.999     4927.21625\n",
              "1.000    12055.68000\n",
              "Name: Monthly Debt, dtype: float64"
            ]
          },
          "execution_count": 47,
          "metadata": {},
          "output_type": "execute_result"
        }
      ],
      "source": [
        "data['Monthly Debt'].quantile([0.999,1])\n"
      ]
    },
    {
      "cell_type": "code",
      "execution_count": 48,
      "metadata": {
        "colab": {
          "base_uri": "https://localhost:8080/",
          "height": 466
        },
        "id": "UUkUQ8A35apF",
        "outputId": "ef9013b6-5d42-46fc-be07-a33507557fa3"
      },
      "outputs": [
        {
          "data": {
            "text/plain": [
              "<Axes: xlabel='Monthly Debt', ylabel='Density'>"
            ]
          },
          "execution_count": 48,
          "metadata": {},
          "output_type": "execute_result"
        },
        {
          "data": {
            "image/png": "[encoded data removed]",
            "text/plain": [
              "<Figure size 640x480 with 1 Axes>"
            ]
          },
          "metadata": {},
          "output_type": "display_data"
        }
      ],
      "source": [
        "#Need to replace this\n",
        "data.loc[data['Monthly Debt'] > 4926, 'Monthly Debt'] = 4926\n",
        "\n",
        "sns.distplot(data[\"Monthly Debt\"])"
      ]
    },
    {
      "cell_type": "code",
      "execution_count": 49,
      "metadata": {
        "colab": {
          "base_uri": "https://localhost:8080/",
          "height": 466
        },
        "id": "F-sPV37_5dfh",
        "outputId": "bfbc293f-3461-436f-9f2d-b04fb7eda25b"
      },
      "outputs": [
        {
          "data": {
            "text/plain": [
              "<Axes: xlabel='Years of Credit History', ylabel='Density'>"
            ]
          },
          "execution_count": 49,
          "metadata": {},
          "output_type": "execute_result"
        },
        {
          "data": {
            "image/png": "[encoded data removed]",
            "text/plain": [
              "<Figure size 640x480 with 1 Axes>"
            ]
          },
          "metadata": {},
          "output_type": "display_data"
        }
      ],
      "source": [
        "####################Years of credit history #################\n",
        "\n",
        "data['Years of Credit History'].value_counts()\n",
        "\n",
        "\n",
        "sns.distplot(data[\"Years of Credit History\"])\n"
      ]
    },
    {
      "cell_type": "code",
      "execution_count": 50,
      "metadata": {
        "colab": {
          "base_uri": "https://localhost:8080/",
          "height": 335
        },
        "id": "QXCgrTLE5hnY",
        "outputId": "2c118a10-be46-41d7-bf8d-ba5925c5d6e0"
      },
      "outputs": [
        {
          "data": {
            "text/html": [
              "<div>\n",
              "<style scoped>\n",
              "    .dataframe tbody tr th:only-of-type {\n",
              "        vertical-align: middle;\n",
              "    }\n",
              "\n",
              "    .dataframe tbody tr th {\n",
              "        vertical-align: top;\n",
              "    }\n",
              "\n",
              "    .dataframe thead th {\n",
              "        text-align: right;\n",
              "    }\n",
              "</style>\n",
              "<table border=\"1\" class=\"dataframe\">\n",
              "  <thead>\n",
              "    <tr style=\"text-align: right;\">\n",
              "      <th></th>\n",
              "      <th>Months since last delinquent</th>\n",
              "    </tr>\n",
              "  </thead>\n",
              "  <tbody>\n",
              "    <tr>\n",
              "      <th>count</th>\n",
              "      <td>40404.000000</td>\n",
              "    </tr>\n",
              "    <tr>\n",
              "      <th>mean</th>\n",
              "      <td>35.080289</td>\n",
              "    </tr>\n",
              "    <tr>\n",
              "      <th>std</th>\n",
              "      <td>22.008583</td>\n",
              "    </tr>\n",
              "    <tr>\n",
              "      <th>min</th>\n",
              "      <td>0.000000</td>\n",
              "    </tr>\n",
              "    <tr>\n",
              "      <th>25%</th>\n",
              "      <td>16.000000</td>\n",
              "    </tr>\n",
              "    <tr>\n",
              "      <th>50%</th>\n",
              "      <td>32.000000</td>\n",
              "    </tr>\n",
              "    <tr>\n",
              "      <th>75%</th>\n",
              "      <td>51.000000</td>\n",
              "    </tr>\n",
              "    <tr>\n",
              "      <th>max</th>\n",
              "      <td>176.000000</td>\n",
              "    </tr>\n",
              "  </tbody>\n",
              "</table>\n",
              "</div><br><label><b>dtype:</b> float64</label>"
            ],
            "text/plain": [
              "count    40404.000000\n",
              "mean        35.080289\n",
              "std         22.008583\n",
              "min          0.000000\n",
              "25%         16.000000\n",
              "50%         32.000000\n",
              "75%         51.000000\n",
              "max        176.000000\n",
              "Name: Months since last delinquent, dtype: float64"
            ]
          },
          "execution_count": 50,
          "metadata": {},
          "output_type": "execute_result"
        }
      ],
      "source": [
        "#############Months since last delinquent####################\n",
        "\n",
        "data['Months since last delinquent'].describe()\n"
      ]
    },
    {
      "cell_type": "code",
      "execution_count": 51,
      "metadata": {
        "colab": {
          "base_uri": "https://localhost:8080/"
        },
        "id": "P6SkuptO5jgy",
        "outputId": "5f5aaceb-2250-4615-c927-8cca7009f596"
      },
      "outputs": [
        {
          "data": {
            "text/plain": [
              "48506"
            ]
          },
          "execution_count": 51,
          "metadata": {},
          "output_type": "execute_result"
        }
      ],
      "source": [
        "#Lets check if there are any NA's\n",
        "data['Months since last delinquent'].isna().sum()\n"
      ]
    },
    {
      "cell_type": "code",
      "execution_count": 52,
      "metadata": {
        "colab": {
          "base_uri": "https://localhost:8080/",
          "height": 335
        },
        "id": "UrL8e8gM5vv9",
        "outputId": "3dc4f4bf-12dc-4fdd-b952-886f3deaed2f"
      },
      "outputs": [
        {
          "data": {
            "text/html": [
              "<div>\n",
              "<style scoped>\n",
              "    .dataframe tbody tr th:only-of-type {\n",
              "        vertical-align: middle;\n",
              "    }\n",
              "\n",
              "    .dataframe tbody tr th {\n",
              "        vertical-align: top;\n",
              "    }\n",
              "\n",
              "    .dataframe thead th {\n",
              "        text-align: right;\n",
              "    }\n",
              "</style>\n",
              "<table border=\"1\" class=\"dataframe\">\n",
              "  <thead>\n",
              "    <tr style=\"text-align: right;\">\n",
              "      <th></th>\n",
              "      <th>Number of Open Accounts</th>\n",
              "    </tr>\n",
              "  </thead>\n",
              "  <tbody>\n",
              "    <tr>\n",
              "      <th>count</th>\n",
              "      <td>88910.000000</td>\n",
              "    </tr>\n",
              "    <tr>\n",
              "      <th>mean</th>\n",
              "      <td>11.110348</td>\n",
              "    </tr>\n",
              "    <tr>\n",
              "      <th>std</th>\n",
              "      <td>4.978461</td>\n",
              "    </tr>\n",
              "    <tr>\n",
              "      <th>min</th>\n",
              "      <td>0.000000</td>\n",
              "    </tr>\n",
              "    <tr>\n",
              "      <th>25%</th>\n",
              "      <td>8.000000</td>\n",
              "    </tr>\n",
              "    <tr>\n",
              "      <th>50%</th>\n",
              "      <td>10.000000</td>\n",
              "    </tr>\n",
              "    <tr>\n",
              "      <th>75%</th>\n",
              "      <td>14.000000</td>\n",
              "    </tr>\n",
              "    <tr>\n",
              "      <th>max</th>\n",
              "      <td>76.000000</td>\n",
              "    </tr>\n",
              "  </tbody>\n",
              "</table>\n",
              "</div><br><label><b>dtype:</b> float64</label>"
            ],
            "text/plain": [
              "count    88910.000000\n",
              "mean        11.110348\n",
              "std          4.978461\n",
              "min          0.000000\n",
              "25%          8.000000\n",
              "50%         10.000000\n",
              "75%         14.000000\n",
              "max         76.000000\n",
              "Name: Number of Open Accounts, dtype: float64"
            ]
          },
          "execution_count": 52,
          "metadata": {},
          "output_type": "execute_result"
        }
      ],
      "source": [
        "##############Number of open accounts ##############\n",
        "\n",
        "data['Number of Open Accounts'].describe()\n"
      ]
    },
    {
      "cell_type": "code",
      "execution_count": 53,
      "metadata": {
        "colab": {
          "base_uri": "https://localhost:8080/",
          "height": 466
        },
        "id": "gkeztB-r5y34",
        "outputId": "be36ec84-2461-4c62-a801-1999af0367b9"
      },
      "outputs": [
        {
          "data": {
            "text/plain": [
              "<Axes: xlabel='Number of Open Accounts', ylabel='Density'>"
            ]
          },
          "execution_count": 53,
          "metadata": {},
          "output_type": "execute_result"
        },
        {
          "data": {
            "image/png": "[encoded data removed]",
            "text/plain": [
              "<Figure size 640x480 with 1 Axes>"
            ]
          },
          "metadata": {},
          "output_type": "display_data"
        }
      ],
      "source": [
        "sns.distplot(data['Number of Open Accounts'])\n"
      ]
    },
    {
      "cell_type": "code",
      "execution_count": 54,
      "metadata": {
        "colab": {
          "base_uri": "https://localhost:8080/",
          "height": 178
        },
        "id": "4zc6CnDF51X5",
        "outputId": "af6a717a-1c91-4425-e556-2e32b17e64f4"
      },
      "outputs": [
        {
          "data": {
            "text/html": [
              "<div>\n",
              "<style scoped>\n",
              "    .dataframe tbody tr th:only-of-type {\n",
              "        vertical-align: middle;\n",
              "    }\n",
              "\n",
              "    .dataframe tbody tr th {\n",
              "        vertical-align: top;\n",
              "    }\n",
              "\n",
              "    .dataframe thead th {\n",
              "        text-align: right;\n",
              "    }\n",
              "</style>\n",
              "<table border=\"1\" class=\"dataframe\">\n",
              "  <thead>\n",
              "    <tr style=\"text-align: right;\">\n",
              "      <th></th>\n",
              "      <th>Number of Open Accounts</th>\n",
              "    </tr>\n",
              "  </thead>\n",
              "  <tbody>\n",
              "    <tr>\n",
              "      <th>0.750</th>\n",
              "      <td>14.0</td>\n",
              "    </tr>\n",
              "    <tr>\n",
              "      <th>0.999</th>\n",
              "      <td>36.0</td>\n",
              "    </tr>\n",
              "    <tr>\n",
              "      <th>1.000</th>\n",
              "      <td>76.0</td>\n",
              "    </tr>\n",
              "  </tbody>\n",
              "</table>\n",
              "</div><br><label><b>dtype:</b> float64</label>"
            ],
            "text/plain": [
              "0.750    14.0\n",
              "0.999    36.0\n",
              "1.000    76.0\n",
              "Name: Number of Open Accounts, dtype: float64"
            ]
          },
          "execution_count": 54,
          "metadata": {},
          "output_type": "execute_result"
        }
      ],
      "source": [
        "data['Number of Open Accounts'].quantile([0.75,0.999,1])\n",
        "#Replacing anything greater than 99th percentile with 99th percentile values\n"
      ]
    },
    {
      "cell_type": "code",
      "execution_count": 55,
      "metadata": {
        "colab": {
          "base_uri": "https://localhost:8080/",
          "height": 466
        },
        "id": "s9TeoHd253x-",
        "outputId": "4f8d5e35-b84b-4f00-993b-15f2f30dc5b9"
      },
      "outputs": [
        {
          "data": {
            "text/plain": [
              "<Axes: xlabel='Number of Open Accounts', ylabel='Density'>"
            ]
          },
          "execution_count": 55,
          "metadata": {},
          "output_type": "execute_result"
        },
        {
          "data": {
            "image/png": "[encoded data removed]",
            "text/plain": [
              "<Figure size 640x480 with 1 Axes>"
            ]
          },
          "metadata": {},
          "output_type": "display_data"
        }
      ],
      "source": [
        "data.loc[data['Number of Open Accounts'] > 36, 'Number of Open Accounts'] = 36\n",
        "\n",
        "\n",
        "sns.distplot(data['Number of Open Accounts'])\n"
      ]
    },
    {
      "cell_type": "code",
      "execution_count": 56,
      "metadata": {
        "colab": {
          "base_uri": "https://localhost:8080/",
          "height": 466
        },
        "id": "bM0vr3CN6Cv0",
        "outputId": "4980b0e8-2b22-451d-c165-3f4eaa456201"
      },
      "outputs": [
        {
          "data": {
            "text/plain": [
              "<Axes: xlabel='Number of Credit Problems', ylabel='Density'>"
            ]
          },
          "execution_count": 56,
          "metadata": {},
          "output_type": "execute_result"
        },
        {
          "data": {
            "image/png": "[encoded data removed]",
            "text/plain": [
              "<Figure size 640x480 with 1 Axes>"
            ]
          },
          "metadata": {},
          "output_type": "display_data"
        }
      ],
      "source": [
        "\n",
        "#######################Number of Credit problems##############\n",
        "\n",
        "data['Number of Credit Problems'].describe()\n",
        "#Max looks a bit higher.\n",
        "\n",
        "sns.distplot(data['Number of Credit Problems'])\n"
      ]
    },
    {
      "cell_type": "code",
      "execution_count": 57,
      "metadata": {
        "colab": {
          "base_uri": "https://localhost:8080/",
          "height": 523
        },
        "id": "woLE1MtM6EsG",
        "outputId": "4dbbb69c-a055-471f-9cf1-8f5ee260fda5"
      },
      "outputs": [
        {
          "data": {
            "text/html": [
              "<div>\n",
              "<style scoped>\n",
              "    .dataframe tbody tr th:only-of-type {\n",
              "        vertical-align: middle;\n",
              "    }\n",
              "\n",
              "    .dataframe tbody tr th {\n",
              "        vertical-align: top;\n",
              "    }\n",
              "\n",
              "    .dataframe thead th {\n",
              "        text-align: right;\n",
              "    }\n",
              "</style>\n",
              "<table border=\"1\" class=\"dataframe\">\n",
              "  <thead>\n",
              "    <tr style=\"text-align: right;\">\n",
              "      <th></th>\n",
              "      <th>Number of Credit Problems</th>\n",
              "    </tr>\n",
              "  </thead>\n",
              "  <tbody>\n",
              "    <tr>\n",
              "      <th>0</th>\n",
              "      <td>77057</td>\n",
              "    </tr>\n",
              "    <tr>\n",
              "      <th>1</th>\n",
              "      <td>10271</td>\n",
              "    </tr>\n",
              "    <tr>\n",
              "      <th>2</th>\n",
              "      <td>1092</td>\n",
              "    </tr>\n",
              "    <tr>\n",
              "      <th>3</th>\n",
              "      <td>311</td>\n",
              "    </tr>\n",
              "    <tr>\n",
              "      <th>4</th>\n",
              "      <td>101</td>\n",
              "    </tr>\n",
              "    <tr>\n",
              "      <th>5</th>\n",
              "      <td>46</td>\n",
              "    </tr>\n",
              "    <tr>\n",
              "      <th>6</th>\n",
              "      <td>14</td>\n",
              "    </tr>\n",
              "    <tr>\n",
              "      <th>7</th>\n",
              "      <td>6</td>\n",
              "    </tr>\n",
              "    <tr>\n",
              "      <th>9</th>\n",
              "      <td>4</td>\n",
              "    </tr>\n",
              "    <tr>\n",
              "      <th>10</th>\n",
              "      <td>3</td>\n",
              "    </tr>\n",
              "    <tr>\n",
              "      <th>8</th>\n",
              "      <td>2</td>\n",
              "    </tr>\n",
              "    <tr>\n",
              "      <th>12</th>\n",
              "      <td>1</td>\n",
              "    </tr>\n",
              "    <tr>\n",
              "      <th>15</th>\n",
              "      <td>1</td>\n",
              "    </tr>\n",
              "    <tr>\n",
              "      <th>11</th>\n",
              "      <td>1</td>\n",
              "    </tr>\n",
              "  </tbody>\n",
              "</table>\n",
              "</div><br><label><b>dtype:</b> int64</label>"
            ],
            "text/plain": [
              "0     77057\n",
              "1     10271\n",
              "2      1092\n",
              "3       311\n",
              "4       101\n",
              "5        46\n",
              "6        14\n",
              "7         6\n",
              "9         4\n",
              "10        3\n",
              "8         2\n",
              "12        1\n",
              "15        1\n",
              "11        1\n",
              "Name: Number of Credit Problems, dtype: int64"
            ]
          },
          "execution_count": 57,
          "metadata": {},
          "output_type": "execute_result"
        }
      ],
      "source": [
        "\n",
        "data['Number of Credit Problems'].value_counts()\n"
      ]
    },
    {
      "cell_type": "code",
      "execution_count": 58,
      "metadata": {
        "colab": {
          "base_uri": "https://localhost:8080/",
          "height": 482
        },
        "id": "aug_2Xh76Grm",
        "outputId": "aafc1202-0d99-4b3b-a235-fa683e94cfd0"
      },
      "outputs": [
        {
          "data": {
            "text/plain": [
              "<Axes: xlabel='Current Credit Balance', ylabel='Density'>"
            ]
          },
          "execution_count": 58,
          "metadata": {},
          "output_type": "execute_result"
        },
        {
          "data": {
            "image/png": "[encoded data removed]",
            "text/plain": [
              "<Figure size 640x480 with 1 Axes>"
            ]
          },
          "metadata": {},
          "output_type": "display_data"
        }
      ],
      "source": [
        "##################Current Credit Balance###########\n",
        "\n",
        "data['Current Credit Balance'].describe()\n",
        "\n",
        "sns.distplot(data['Current Credit Balance'])\n",
        "#There are outliers in this data.\n"
      ]
    },
    {
      "cell_type": "code",
      "execution_count": 59,
      "metadata": {
        "colab": {
          "base_uri": "https://localhost:8080/",
          "height": 209
        },
        "id": "X2CTOTS86H7S",
        "outputId": "dc3319d2-63ee-4575-b8ba-011ce0b88c82"
      },
      "outputs": [
        {
          "data": {
            "text/html": [
              "<div>\n",
              "<style scoped>\n",
              "    .dataframe tbody tr th:only-of-type {\n",
              "        vertical-align: middle;\n",
              "    }\n",
              "\n",
              "    .dataframe tbody tr th {\n",
              "        vertical-align: top;\n",
              "    }\n",
              "\n",
              "    .dataframe thead th {\n",
              "        text-align: right;\n",
              "    }\n",
              "</style>\n",
              "<table border=\"1\" class=\"dataframe\">\n",
              "  <thead>\n",
              "    <tr style=\"text-align: right;\">\n",
              "      <th></th>\n",
              "      <th>Current Credit Balance</th>\n",
              "    </tr>\n",
              "  </thead>\n",
              "  <tbody>\n",
              "    <tr>\n",
              "      <th>0.750</th>\n",
              "      <td>19301.000</td>\n",
              "    </tr>\n",
              "    <tr>\n",
              "      <th>0.950</th>\n",
              "      <td>39933.300</td>\n",
              "    </tr>\n",
              "    <tr>\n",
              "      <th>0.999</th>\n",
              "      <td>227670.033</td>\n",
              "    </tr>\n",
              "    <tr>\n",
              "      <th>1.000</th>\n",
              "      <td>1730472.000</td>\n",
              "    </tr>\n",
              "  </tbody>\n",
              "</table>\n",
              "</div><br><label><b>dtype:</b> float64</label>"
            ],
            "text/plain": [
              "0.750      19301.000\n",
              "0.950      39933.300\n",
              "0.999     227670.033\n",
              "1.000    1730472.000\n",
              "Name: Current Credit Balance, dtype: float64"
            ]
          },
          "execution_count": 59,
          "metadata": {},
          "output_type": "execute_result"
        }
      ],
      "source": [
        "data['Current Credit Balance'].quantile([0.75,0.95,0.999,1])\n"
      ]
    },
    {
      "cell_type": "code",
      "execution_count": 60,
      "metadata": {
        "colab": {
          "base_uri": "https://localhost:8080/",
          "height": 272
        },
        "id": "PIZ14d9I6Kjw",
        "outputId": "7775d786-490e-4b36-921b-5869e3414b51"
      },
      "outputs": [
        {
          "data": {
            "text/html": [
              "<div>\n",
              "<style scoped>\n",
              "    .dataframe tbody tr th:only-of-type {\n",
              "        vertical-align: middle;\n",
              "    }\n",
              "\n",
              "    .dataframe tbody tr th {\n",
              "        vertical-align: top;\n",
              "    }\n",
              "\n",
              "    .dataframe thead th {\n",
              "        text-align: right;\n",
              "    }\n",
              "</style>\n",
              "<table border=\"1\" class=\"dataframe\">\n",
              "  <thead>\n",
              "    <tr style=\"text-align: right;\">\n",
              "      <th></th>\n",
              "      <th>Current Credit Balance</th>\n",
              "    </tr>\n",
              "  </thead>\n",
              "  <tbody>\n",
              "    <tr>\n",
              "      <th>0.95</th>\n",
              "      <td>39933.30</td>\n",
              "    </tr>\n",
              "    <tr>\n",
              "      <th>0.96</th>\n",
              "      <td>43501.20</td>\n",
              "    </tr>\n",
              "    <tr>\n",
              "      <th>0.97</th>\n",
              "      <td>48507.73</td>\n",
              "    </tr>\n",
              "    <tr>\n",
              "      <th>0.98</th>\n",
              "      <td>57938.12</td>\n",
              "    </tr>\n",
              "    <tr>\n",
              "      <th>0.99</th>\n",
              "      <td>81007.19</td>\n",
              "    </tr>\n",
              "    <tr>\n",
              "      <th>1.00</th>\n",
              "      <td>1730472.00</td>\n",
              "    </tr>\n",
              "  </tbody>\n",
              "</table>\n",
              "</div><br><label><b>dtype:</b> float64</label>"
            ],
            "text/plain": [
              "0.95      39933.30\n",
              "0.96      43501.20\n",
              "0.97      48507.73\n",
              "0.98      57938.12\n",
              "0.99      81007.19\n",
              "1.00    1730472.00\n",
              "Name: Current Credit Balance, dtype: float64"
            ]
          },
          "execution_count": 60,
          "metadata": {},
          "output_type": "execute_result"
        }
      ],
      "source": [
        "\n",
        "data['Current Credit Balance'].quantile([0.95,0.96,0.97,0.98,0.99,1])\n"
      ]
    },
    {
      "cell_type": "code",
      "execution_count": 61,
      "metadata": {
        "colab": {
          "base_uri": "https://localhost:8080/",
          "height": 272
        },
        "id": "3V665O4R6Mod",
        "outputId": "801742d8-7029-4918-91b4-f82cdefb7452"
      },
      "outputs": [
        {
          "data": {
            "text/html": [
              "<div>\n",
              "<style scoped>\n",
              "    .dataframe tbody tr th:only-of-type {\n",
              "        vertical-align: middle;\n",
              "    }\n",
              "\n",
              "    .dataframe tbody tr th {\n",
              "        vertical-align: top;\n",
              "    }\n",
              "\n",
              "    .dataframe thead th {\n",
              "        text-align: right;\n",
              "    }\n",
              "</style>\n",
              "<table border=\"1\" class=\"dataframe\">\n",
              "  <thead>\n",
              "    <tr style=\"text-align: right;\">\n",
              "      <th></th>\n",
              "      <th>Current Credit Balance</th>\n",
              "    </tr>\n",
              "  </thead>\n",
              "  <tbody>\n",
              "    <tr>\n",
              "      <th>0.55</th>\n",
              "      <td>12295.00</td>\n",
              "    </tr>\n",
              "    <tr>\n",
              "      <th>0.76</th>\n",
              "      <td>19805.84</td>\n",
              "    </tr>\n",
              "    <tr>\n",
              "      <th>0.87</th>\n",
              "      <td>27525.66</td>\n",
              "    </tr>\n",
              "    <tr>\n",
              "      <th>0.98</th>\n",
              "      <td>57938.12</td>\n",
              "    </tr>\n",
              "    <tr>\n",
              "      <th>0.99</th>\n",
              "      <td>81007.19</td>\n",
              "    </tr>\n",
              "    <tr>\n",
              "      <th>1.00</th>\n",
              "      <td>1730472.00</td>\n",
              "    </tr>\n",
              "  </tbody>\n",
              "</table>\n",
              "</div><br><label><b>dtype:</b> float64</label>"
            ],
            "text/plain": [
              "0.55      12295.00\n",
              "0.76      19805.84\n",
              "0.87      27525.66\n",
              "0.98      57938.12\n",
              "0.99      81007.19\n",
              "1.00    1730472.00\n",
              "Name: Current Credit Balance, dtype: float64"
            ]
          },
          "execution_count": 61,
          "metadata": {},
          "output_type": "execute_result"
        }
      ],
      "source": [
        "#Replace it with 95th percentile\n",
        "\n",
        "data['Current Credit Balance'].quantile([0.55,0.76,0.87,0.98,0.99,1])\n"
      ]
    },
    {
      "cell_type": "code",
      "execution_count": 62,
      "metadata": {
        "colab": {
          "base_uri": "https://localhost:8080/",
          "height": 466
        },
        "id": "heG831W96Ovi",
        "outputId": "a84fa7a0-069c-40f9-bb06-281556fa36a0"
      },
      "outputs": [
        {
          "data": {
            "text/plain": [
              "<Axes: xlabel='Current Credit Balance', ylabel='Density'>"
            ]
          },
          "execution_count": 62,
          "metadata": {},
          "output_type": "execute_result"
        },
        {
          "data": {
            "image/png": "[encoded data removed]",
            "text/plain": [
              "<Figure size 640x480 with 1 Axes>"
            ]
          },
          "metadata": {},
          "output_type": "display_data"
        }
      ],
      "source": [
        "data.loc[data['Current Credit Balance'] > 81007, 'Current Credit Balance'] = 81007\n",
        "\n",
        "\n",
        "sns.distplot(data['Current Credit Balance']**(1/2))\n",
        "#The plot doesnt look good. Need to transform it\n"
      ]
    },
    {
      "cell_type": "code",
      "execution_count": 63,
      "metadata": {
        "id": "cxDA0Kz46Q1s"
      },
      "outputs": [],
      "source": [
        "data['Current Credit Balance']=data['Current Credit Balance']**(1/2)\n"
      ]
    },
    {
      "cell_type": "code",
      "execution_count": 64,
      "metadata": {
        "colab": {
          "base_uri": "https://localhost:8080/",
          "height": 209
        },
        "id": "LmRwOBcQ6UgS",
        "outputId": "30833485-5e4e-4853-96f4-9c46b10663c8"
      },
      "outputs": [
        {
          "data": {
            "text/html": [
              "<div>\n",
              "<style scoped>\n",
              "    .dataframe tbody tr th:only-of-type {\n",
              "        vertical-align: middle;\n",
              "    }\n",
              "\n",
              "    .dataframe tbody tr th {\n",
              "        vertical-align: top;\n",
              "    }\n",
              "\n",
              "    .dataframe thead th {\n",
              "        text-align: right;\n",
              "    }\n",
              "</style>\n",
              "<table border=\"1\" class=\"dataframe\">\n",
              "  <thead>\n",
              "    <tr style=\"text-align: right;\">\n",
              "      <th></th>\n",
              "      <th>Maximum Open Credit</th>\n",
              "    </tr>\n",
              "  </thead>\n",
              "  <tbody>\n",
              "    <tr>\n",
              "      <th>count</th>\n",
              "      <td>88910</td>\n",
              "    </tr>\n",
              "    <tr>\n",
              "      <th>unique</th>\n",
              "      <td>58216</td>\n",
              "    </tr>\n",
              "    <tr>\n",
              "      <th>top</th>\n",
              "      <td>0</td>\n",
              "    </tr>\n",
              "    <tr>\n",
              "      <th>freq</th>\n",
              "      <td>450</td>\n",
              "    </tr>\n",
              "  </tbody>\n",
              "</table>\n",
              "</div><br><label><b>dtype:</b> object</label>"
            ],
            "text/plain": [
              "count     88910\n",
              "unique    58216\n",
              "top           0\n",
              "freq        450\n",
              "Name: Maximum Open Credit, dtype: object"
            ]
          },
          "execution_count": 64,
          "metadata": {},
          "output_type": "execute_result"
        }
      ],
      "source": [
        "#######################Max open credit################\n",
        "\n",
        "data['Maximum Open Credit'].describe()\n"
      ]
    },
    {
      "cell_type": "code",
      "execution_count": 65,
      "metadata": {
        "colab": {
          "base_uri": "https://localhost:8080/",
          "height": 458
        },
        "id": "hN6dTA_A6WgQ",
        "outputId": "937ea70c-f6c2-49c6-f737-6c50a0db5130"
      },
      "outputs": [
        {
          "data": {
            "text/html": [
              "<div>\n",
              "<style scoped>\n",
              "    .dataframe tbody tr th:only-of-type {\n",
              "        vertical-align: middle;\n",
              "    }\n",
              "\n",
              "    .dataframe tbody tr th {\n",
              "        vertical-align: top;\n",
              "    }\n",
              "\n",
              "    .dataframe thead th {\n",
              "        text-align: right;\n",
              "    }\n",
              "</style>\n",
              "<table border=\"1\" class=\"dataframe\">\n",
              "  <thead>\n",
              "    <tr style=\"text-align: right;\">\n",
              "      <th></th>\n",
              "      <th>Maximum Open Credit</th>\n",
              "    </tr>\n",
              "  </thead>\n",
              "  <tbody>\n",
              "    <tr>\n",
              "      <th>0</th>\n",
              "      <td>450</td>\n",
              "    </tr>\n",
              "    <tr>\n",
              "      <th>0</th>\n",
              "      <td>160</td>\n",
              "    </tr>\n",
              "    <tr>\n",
              "      <th>15847</th>\n",
              "      <td>9</td>\n",
              "    </tr>\n",
              "    <tr>\n",
              "      <th>17464</th>\n",
              "      <td>9</td>\n",
              "    </tr>\n",
              "    <tr>\n",
              "      <th>6827</th>\n",
              "      <td>8</td>\n",
              "    </tr>\n",
              "    <tr>\n",
              "      <th>...</th>\n",
              "      <td>...</td>\n",
              "    </tr>\n",
              "    <tr>\n",
              "      <th>28296</th>\n",
              "      <td>1</td>\n",
              "    </tr>\n",
              "    <tr>\n",
              "      <th>10199</th>\n",
              "      <td>1</td>\n",
              "    </tr>\n",
              "    <tr>\n",
              "      <th>132602</th>\n",
              "      <td>1</td>\n",
              "    </tr>\n",
              "    <tr>\n",
              "      <th>10395</th>\n",
              "      <td>1</td>\n",
              "    </tr>\n",
              "    <tr>\n",
              "      <th>21124</th>\n",
              "      <td>1</td>\n",
              "    </tr>\n",
              "  </tbody>\n",
              "</table>\n",
              "<p>58216 rows × 1 columns</p>\n",
              "</div><br><label><b>dtype:</b> int64</label>"
            ],
            "text/plain": [
              "0         450\n",
              "0         160\n",
              "15847       9\n",
              "17464       9\n",
              "6827        8\n",
              "         ... \n",
              "28296       1\n",
              "10199       1\n",
              "132602      1\n",
              "10395       1\n",
              "21124       1\n",
              "Name: Maximum Open Credit, Length: 58216, dtype: int64"
            ]
          },
          "execution_count": 65,
          "metadata": {},
          "output_type": "execute_result"
        }
      ],
      "source": [
        "data['Maximum Open Credit'].value_counts()\n"
      ]
    },
    {
      "cell_type": "code",
      "execution_count": 68,
      "metadata": {
        "id": "7JKwAXW16dAB"
      },
      "outputs": [],
      "source": [
        "#Replacing #value with Nan\n",
        "data['Maximum Open Credit']=data['Maximum Open Credit'].replace('#VALUE!', np.nan, regex=True)\n"
      ]
    },
    {
      "cell_type": "code",
      "execution_count": 69,
      "metadata": {
        "id": "giIS_wU96erR"
      },
      "outputs": [],
      "source": [
        "data['Maximum Open Credit']=pd.to_numeric(data['Maximum Open Credit'])\n"
      ]
    },
    {
      "cell_type": "code",
      "execution_count": 70,
      "metadata": {
        "colab": {
          "base_uri": "https://localhost:8080/"
        },
        "id": "BgrU60uB6qtn",
        "outputId": "f5c8588d-5333-45b7-ab5a-1463b842c351"
      },
      "outputs": [
        {
          "data": {
            "text/plain": [
              "2"
            ]
          },
          "execution_count": 70,
          "metadata": {},
          "output_type": "execute_result"
        }
      ],
      "source": [
        "data['Maximum Open Credit'].isnull().sum()\n",
        "#Replacing 2 NANs with mean\n"
      ]
    },
    {
      "cell_type": "code",
      "execution_count": 71,
      "metadata": {
        "id": "80SyQVKg6v9u"
      },
      "outputs": [],
      "source": [
        "data['Maximum Open Credit']=data['Maximum Open Credit'].fillna(35965)\n"
      ]
    },
    {
      "cell_type": "code",
      "execution_count": 72,
      "metadata": {
        "colab": {
          "base_uri": "https://localhost:8080/",
          "height": 272
        },
        "id": "tsphMtOl6xlA",
        "outputId": "88bfb715-c7a6-4f56-efdb-af7829ba8997"
      },
      "outputs": [
        {
          "data": {
            "text/html": [
              "<div>\n",
              "<style scoped>\n",
              "    .dataframe tbody tr th:only-of-type {\n",
              "        vertical-align: middle;\n",
              "    }\n",
              "\n",
              "    .dataframe tbody tr th {\n",
              "        vertical-align: top;\n",
              "    }\n",
              "\n",
              "    .dataframe thead th {\n",
              "        text-align: right;\n",
              "    }\n",
              "</style>\n",
              "<table border=\"1\" class=\"dataframe\">\n",
              "  <thead>\n",
              "    <tr style=\"text-align: right;\">\n",
              "      <th></th>\n",
              "      <th>Maximum Open Credit</th>\n",
              "    </tr>\n",
              "  </thead>\n",
              "  <tbody>\n",
              "    <tr>\n",
              "      <th>0.55</th>\n",
              "      <td>24037.95</td>\n",
              "    </tr>\n",
              "    <tr>\n",
              "      <th>0.76</th>\n",
              "      <td>37259.84</td>\n",
              "    </tr>\n",
              "    <tr>\n",
              "      <th>0.87</th>\n",
              "      <td>50736.66</td>\n",
              "    </tr>\n",
              "    <tr>\n",
              "      <th>0.98</th>\n",
              "      <td>114682.56</td>\n",
              "    </tr>\n",
              "    <tr>\n",
              "      <th>0.99</th>\n",
              "      <td>171423.91</td>\n",
              "    </tr>\n",
              "    <tr>\n",
              "      <th>1.00</th>\n",
              "      <td>69988086.00</td>\n",
              "    </tr>\n",
              "  </tbody>\n",
              "</table>\n",
              "</div><br><label><b>dtype:</b> float64</label>"
            ],
            "text/plain": [
              "0.55       24037.95\n",
              "0.76       37259.84\n",
              "0.87       50736.66\n",
              "0.98      114682.56\n",
              "0.99      171423.91\n",
              "1.00    69988086.00\n",
              "Name: Maximum Open Credit, dtype: float64"
            ]
          },
          "execution_count": 72,
          "metadata": {},
          "output_type": "execute_result"
        }
      ],
      "source": [
        "data['Maximum Open Credit'].quantile([0.55,0.76,0.87,0.98,0.99,1])\n",
        "\n"
      ]
    },
    {
      "cell_type": "code",
      "execution_count": 73,
      "metadata": {
        "id": "Y-bwxysQ6z5e"
      },
      "outputs": [],
      "source": [
        "#Replacing the outliers\n",
        "data.loc[data['Maximum Open Credit'] > 171423, 'Maximum Open Credit'] = 171423\n"
      ]
    },
    {
      "cell_type": "code",
      "execution_count": 74,
      "metadata": {
        "colab": {
          "base_uri": "https://localhost:8080/",
          "height": 335
        },
        "id": "zGLsq9-G62xh",
        "outputId": "69cd5f51-9c78-4d3b-f2d0-bb124849c8c3"
      },
      "outputs": [
        {
          "data": {
            "text/html": [
              "<div>\n",
              "<style scoped>\n",
              "    .dataframe tbody tr th:only-of-type {\n",
              "        vertical-align: middle;\n",
              "    }\n",
              "\n",
              "    .dataframe tbody tr th {\n",
              "        vertical-align: top;\n",
              "    }\n",
              "\n",
              "    .dataframe thead th {\n",
              "        text-align: right;\n",
              "    }\n",
              "</style>\n",
              "<table border=\"1\" class=\"dataframe\">\n",
              "  <thead>\n",
              "    <tr style=\"text-align: right;\">\n",
              "      <th></th>\n",
              "      <th>Bankruptcies</th>\n",
              "    </tr>\n",
              "  </thead>\n",
              "  <tbody>\n",
              "    <tr>\n",
              "      <th>count</th>\n",
              "      <td>88718.000000</td>\n",
              "    </tr>\n",
              "    <tr>\n",
              "      <th>mean</th>\n",
              "      <td>0.112672</td>\n",
              "    </tr>\n",
              "    <tr>\n",
              "      <th>std</th>\n",
              "      <td>0.343300</td>\n",
              "    </tr>\n",
              "    <tr>\n",
              "      <th>min</th>\n",
              "      <td>0.000000</td>\n",
              "    </tr>\n",
              "    <tr>\n",
              "      <th>25%</th>\n",
              "      <td>0.000000</td>\n",
              "    </tr>\n",
              "    <tr>\n",
              "      <th>50%</th>\n",
              "      <td>0.000000</td>\n",
              "    </tr>\n",
              "    <tr>\n",
              "      <th>75%</th>\n",
              "      <td>0.000000</td>\n",
              "    </tr>\n",
              "    <tr>\n",
              "      <th>max</th>\n",
              "      <td>7.000000</td>\n",
              "    </tr>\n",
              "  </tbody>\n",
              "</table>\n",
              "</div><br><label><b>dtype:</b> float64</label>"
            ],
            "text/plain": [
              "count    88718.000000\n",
              "mean         0.112672\n",
              "std          0.343300\n",
              "min          0.000000\n",
              "25%          0.000000\n",
              "50%          0.000000\n",
              "75%          0.000000\n",
              "max          7.000000\n",
              "Name: Bankruptcies, dtype: float64"
            ]
          },
          "execution_count": 74,
          "metadata": {},
          "output_type": "execute_result"
        }
      ],
      "source": [
        "###############Bankruptcies##########\n",
        "data['Bankruptcies'].describe()\n"
      ]
    },
    {
      "cell_type": "code",
      "execution_count": 75,
      "metadata": {
        "colab": {
          "base_uri": "https://localhost:8080/",
          "height": 335
        },
        "id": "svQF_vyL65Yk",
        "outputId": "fe48a9b4-b80b-450a-e9b6-735df04107c2"
      },
      "outputs": [
        {
          "data": {
            "text/html": [
              "<div>\n",
              "<style scoped>\n",
              "    .dataframe tbody tr th:only-of-type {\n",
              "        vertical-align: middle;\n",
              "    }\n",
              "\n",
              "    .dataframe tbody tr th {\n",
              "        vertical-align: top;\n",
              "    }\n",
              "\n",
              "    .dataframe thead th {\n",
              "        text-align: right;\n",
              "    }\n",
              "</style>\n",
              "<table border=\"1\" class=\"dataframe\">\n",
              "  <thead>\n",
              "    <tr style=\"text-align: right;\">\n",
              "      <th></th>\n",
              "      <th>Bankruptcies</th>\n",
              "    </tr>\n",
              "  </thead>\n",
              "  <tbody>\n",
              "    <tr>\n",
              "      <th>0.0</th>\n",
              "      <td>79323</td>\n",
              "    </tr>\n",
              "    <tr>\n",
              "      <th>1.0</th>\n",
              "      <td>8936</td>\n",
              "    </tr>\n",
              "    <tr>\n",
              "      <th>2.0</th>\n",
              "      <td>353</td>\n",
              "    </tr>\n",
              "    <tr>\n",
              "      <th>3.0</th>\n",
              "      <td>80</td>\n",
              "    </tr>\n",
              "    <tr>\n",
              "      <th>4.0</th>\n",
              "      <td>19</td>\n",
              "    </tr>\n",
              "    <tr>\n",
              "      <th>5.0</th>\n",
              "      <td>5</td>\n",
              "    </tr>\n",
              "    <tr>\n",
              "      <th>7.0</th>\n",
              "      <td>1</td>\n",
              "    </tr>\n",
              "    <tr>\n",
              "      <th>6.0</th>\n",
              "      <td>1</td>\n",
              "    </tr>\n",
              "  </tbody>\n",
              "</table>\n",
              "</div><br><label><b>dtype:</b> int64</label>"
            ],
            "text/plain": [
              "0.0    79323\n",
              "1.0     8936\n",
              "2.0      353\n",
              "3.0       80\n",
              "4.0       19\n",
              "5.0        5\n",
              "7.0        1\n",
              "6.0        1\n",
              "Name: Bankruptcies, dtype: int64"
            ]
          },
          "execution_count": 75,
          "metadata": {},
          "output_type": "execute_result"
        }
      ],
      "source": [
        "data['Bankruptcies'].value_counts()\n"
      ]
    },
    {
      "cell_type": "code",
      "execution_count": 76,
      "metadata": {
        "colab": {
          "base_uri": "https://localhost:8080/"
        },
        "id": "RN3BTL0S69TS",
        "outputId": "211b8de0-fb57-4ee8-f067-1880b2be64d7"
      },
      "outputs": [
        {
          "data": {
            "text/plain": [
              "array([ 0.,  1., nan,  2.,  4.,  3.,  5.,  7.,  6.])"
            ]
          },
          "execution_count": 76,
          "metadata": {},
          "output_type": "execute_result"
        }
      ],
      "source": [
        "data['Bankruptcies'].unique()\n",
        "\n",
        "#So we have Nan's. Lets fill them with median\n"
      ]
    },
    {
      "cell_type": "code",
      "execution_count": 77,
      "metadata": {
        "id": "1gbCLGqD6-hG"
      },
      "outputs": [],
      "source": [
        "data['Bankruptcies']=data['Bankruptcies'].fillna(3)\n"
      ]
    },
    {
      "cell_type": "code",
      "execution_count": 78,
      "metadata": {
        "colab": {
          "base_uri": "https://localhost:8080/",
          "height": 335
        },
        "id": "F06nUq9Y7CnX",
        "outputId": "651fd052-7f3a-48d4-b904-6b21c008cd4f"
      },
      "outputs": [
        {
          "data": {
            "text/html": [
              "<div>\n",
              "<style scoped>\n",
              "    .dataframe tbody tr th:only-of-type {\n",
              "        vertical-align: middle;\n",
              "    }\n",
              "\n",
              "    .dataframe tbody tr th {\n",
              "        vertical-align: top;\n",
              "    }\n",
              "\n",
              "    .dataframe thead th {\n",
              "        text-align: right;\n",
              "    }\n",
              "</style>\n",
              "<table border=\"1\" class=\"dataframe\">\n",
              "  <thead>\n",
              "    <tr style=\"text-align: right;\">\n",
              "      <th></th>\n",
              "      <th>Tax Liens</th>\n",
              "    </tr>\n",
              "  </thead>\n",
              "  <tbody>\n",
              "    <tr>\n",
              "      <th>count</th>\n",
              "      <td>88902.000000</td>\n",
              "    </tr>\n",
              "    <tr>\n",
              "      <th>mean</th>\n",
              "      <td>0.028222</td>\n",
              "    </tr>\n",
              "    <tr>\n",
              "      <th>std</th>\n",
              "      <td>0.257533</td>\n",
              "    </tr>\n",
              "    <tr>\n",
              "      <th>min</th>\n",
              "      <td>0.000000</td>\n",
              "    </tr>\n",
              "    <tr>\n",
              "      <th>25%</th>\n",
              "      <td>0.000000</td>\n",
              "    </tr>\n",
              "    <tr>\n",
              "      <th>50%</th>\n",
              "      <td>0.000000</td>\n",
              "    </tr>\n",
              "    <tr>\n",
              "      <th>75%</th>\n",
              "      <td>0.000000</td>\n",
              "    </tr>\n",
              "    <tr>\n",
              "      <th>max</th>\n",
              "      <td>15.000000</td>\n",
              "    </tr>\n",
              "  </tbody>\n",
              "</table>\n",
              "</div><br><label><b>dtype:</b> float64</label>"
            ],
            "text/plain": [
              "count    88902.000000\n",
              "mean         0.028222\n",
              "std          0.257533\n",
              "min          0.000000\n",
              "25%          0.000000\n",
              "50%          0.000000\n",
              "75%          0.000000\n",
              "max         15.000000\n",
              "Name: Tax Liens, dtype: float64"
            ]
          },
          "execution_count": 78,
          "metadata": {},
          "output_type": "execute_result"
        }
      ],
      "source": [
        "####Tax Liens######\n",
        "\n",
        "data['Tax Liens'].describe()\n"
      ]
    },
    {
      "cell_type": "code",
      "execution_count": 79,
      "metadata": {
        "colab": {
          "base_uri": "https://localhost:8080/",
          "height": 491
        },
        "id": "X2t-MGQv7F7w",
        "outputId": "033aaeba-0920-40f5-e4df-33f2118cf53a"
      },
      "outputs": [
        {
          "data": {
            "text/html": [
              "<div>\n",
              "<style scoped>\n",
              "    .dataframe tbody tr th:only-of-type {\n",
              "        vertical-align: middle;\n",
              "    }\n",
              "\n",
              "    .dataframe tbody tr th {\n",
              "        vertical-align: top;\n",
              "    }\n",
              "\n",
              "    .dataframe thead th {\n",
              "        text-align: right;\n",
              "    }\n",
              "</style>\n",
              "<table border=\"1\" class=\"dataframe\">\n",
              "  <thead>\n",
              "    <tr style=\"text-align: right;\">\n",
              "      <th></th>\n",
              "      <th>Tax Liens</th>\n",
              "    </tr>\n",
              "  </thead>\n",
              "  <tbody>\n",
              "    <tr>\n",
              "      <th>0.0</th>\n",
              "      <td>87274</td>\n",
              "    </tr>\n",
              "    <tr>\n",
              "      <th>1.0</th>\n",
              "      <td>1132</td>\n",
              "    </tr>\n",
              "    <tr>\n",
              "      <th>2.0</th>\n",
              "      <td>305</td>\n",
              "    </tr>\n",
              "    <tr>\n",
              "      <th>3.0</th>\n",
              "      <td>99</td>\n",
              "    </tr>\n",
              "    <tr>\n",
              "      <th>4.0</th>\n",
              "      <td>52</td>\n",
              "    </tr>\n",
              "    <tr>\n",
              "      <th>5.0</th>\n",
              "      <td>17</td>\n",
              "    </tr>\n",
              "    <tr>\n",
              "      <th>6.0</th>\n",
              "      <td>9</td>\n",
              "    </tr>\n",
              "    <tr>\n",
              "      <th>7.0</th>\n",
              "      <td>5</td>\n",
              "    </tr>\n",
              "    <tr>\n",
              "      <th>9.0</th>\n",
              "      <td>4</td>\n",
              "    </tr>\n",
              "    <tr>\n",
              "      <th>8.0</th>\n",
              "      <td>2</td>\n",
              "    </tr>\n",
              "    <tr>\n",
              "      <th>15.0</th>\n",
              "      <td>1</td>\n",
              "    </tr>\n",
              "    <tr>\n",
              "      <th>10.0</th>\n",
              "      <td>1</td>\n",
              "    </tr>\n",
              "    <tr>\n",
              "      <th>11.0</th>\n",
              "      <td>1</td>\n",
              "    </tr>\n",
              "  </tbody>\n",
              "</table>\n",
              "</div><br><label><b>dtype:</b> int64</label>"
            ],
            "text/plain": [
              "0.0     87274\n",
              "1.0      1132\n",
              "2.0       305\n",
              "3.0        99\n",
              "4.0        52\n",
              "5.0        17\n",
              "6.0         9\n",
              "7.0         5\n",
              "9.0         4\n",
              "8.0         2\n",
              "15.0        1\n",
              "10.0        1\n",
              "11.0        1\n",
              "Name: Tax Liens, dtype: int64"
            ]
          },
          "execution_count": 79,
          "metadata": {},
          "output_type": "execute_result"
        }
      ],
      "source": [
        "data['Tax Liens'].value_counts()\n",
        "\n"
      ]
    },
    {
      "cell_type": "code",
      "execution_count": 80,
      "metadata": {
        "colab": {
          "base_uri": "https://localhost:8080/"
        },
        "id": "CUcCLP-81iIJ",
        "outputId": "f198e31b-fc86-4a02-a976-040daff27c27"
      },
      "outputs": [
        {
          "data": {
            "text/plain": [
              "array([0., 1., 3., 2., 4., 5., 7., 6.])"
            ]
          },
          "execution_count": 80,
          "metadata": {},
          "output_type": "execute_result"
        }
      ],
      "source": [
        "data['Bankruptcies'].unique()"
      ]
    },
    {
      "cell_type": "code",
      "execution_count": 81,
      "metadata": {
        "id": "QhAYXmTI10R_"
      },
      "outputs": [],
      "source": [
        "cat_cols = ['Term','Years in current job','Home Ownership','Purpose']\n",
        "\n",
        "for c in cat_cols:\n",
        "    data[c] = pd.factorize(data[c])[0]"
      ]
    },
    {
      "cell_type": "code",
      "execution_count": 82,
      "metadata": {
        "colab": {
          "base_uri": "https://localhost:8080/"
        },
        "id": "nZHJqhHq16Gi",
        "outputId": "ef19f566-480f-4200-cd42-aee110cbd594"
      },
      "outputs": [
        {
          "name": "stdout",
          "output_type": "stream",
          "text": [
            "[SoftImpute] Max Singular Value of X_init = 23092221.868378\n",
            "[SoftImpute] Iter 1: observed MAE=261.480152 rank=3\n",
            "[SoftImpute] Iter 2: observed MAE=258.548469 rank=3\n",
            "[SoftImpute] Iter 3: observed MAE=258.207662 rank=3\n",
            "[SoftImpute] Iter 4: observed MAE=258.184852 rank=3\n",
            "[SoftImpute] Iter 5: observed MAE=258.204643 rank=3\n",
            "[SoftImpute] Iter 6: observed MAE=258.230069 rank=3\n",
            "[SoftImpute] Iter 7: observed MAE=258.255573 rank=3\n",
            "[SoftImpute] Iter 8: observed MAE=258.280106 rank=3\n",
            "[SoftImpute] Iter 9: observed MAE=258.303449 rank=3\n",
            "[SoftImpute] Iter 10: observed MAE=258.325504 rank=3\n",
            "[SoftImpute] Iter 11: observed MAE=258.346214 rank=3\n",
            "[SoftImpute] Iter 12: observed MAE=258.365509 rank=3\n",
            "[SoftImpute] Iter 13: observed MAE=258.383517 rank=3\n",
            "[SoftImpute] Iter 14: observed MAE=258.400220 rank=3\n",
            "[SoftImpute] Iter 15: observed MAE=258.415645 rank=3\n",
            "[SoftImpute] Iter 16: observed MAE=258.429899 rank=3\n",
            "[SoftImpute] Iter 17: observed MAE=258.443135 rank=3\n",
            "[SoftImpute] Iter 18: observed MAE=258.455321 rank=3\n",
            "[SoftImpute] Iter 19: observed MAE=258.466406 rank=3\n",
            "[SoftImpute] Iter 20: observed MAE=258.476502 rank=3\n",
            "[SoftImpute] Iter 21: observed MAE=258.485635 rank=3\n",
            "[SoftImpute] Iter 22: observed MAE=258.493976 rank=3\n",
            "[SoftImpute] Iter 23: observed MAE=258.501425 rank=3\n",
            "[SoftImpute] Iter 24: observed MAE=258.507980 rank=3\n",
            "[SoftImpute] Iter 25: observed MAE=258.513757 rank=3\n",
            "[SoftImpute] Iter 26: observed MAE=258.518806 rank=3\n",
            "[SoftImpute] Iter 27: observed MAE=258.523130 rank=3\n",
            "[SoftImpute] Iter 28: observed MAE=258.526828 rank=3\n",
            "[SoftImpute] Iter 29: observed MAE=258.529886 rank=3\n",
            "[SoftImpute] Iter 30: observed MAE=258.532257 rank=3\n",
            "[SoftImpute] Iter 31: observed MAE=258.534040 rank=3\n",
            "[SoftImpute] Iter 32: observed MAE=258.535239 rank=3\n",
            "[SoftImpute] Iter 33: observed MAE=258.535873 rank=3\n",
            "[SoftImpute] Iter 34: observed MAE=258.536000 rank=3\n",
            "[SoftImpute] Iter 35: observed MAE=258.535693 rank=3\n",
            "[SoftImpute] Iter 36: observed MAE=258.535026 rank=3\n",
            "[SoftImpute] Iter 37: observed MAE=258.533982 rank=3\n",
            "[SoftImpute] Iter 38: observed MAE=258.532591 rank=3\n",
            "[SoftImpute] Iter 39: observed MAE=258.530805 rank=3\n",
            "[SoftImpute] Iter 40: observed MAE=258.528646 rank=3\n",
            "[SoftImpute] Iter 41: observed MAE=258.526223 rank=3\n",
            "[SoftImpute] Iter 42: observed MAE=258.523509 rank=3\n",
            "[SoftImpute] Iter 43: observed MAE=258.520516 rank=3\n",
            "[SoftImpute] Iter 44: observed MAE=258.517318 rank=3\n",
            "[SoftImpute] Iter 45: observed MAE=258.513880 rank=3\n",
            "[SoftImpute] Iter 46: observed MAE=258.510209 rank=3\n",
            "[SoftImpute] Iter 47: observed MAE=258.506342 rank=3\n",
            "[SoftImpute] Iter 48: observed MAE=258.502311 rank=3\n",
            "[SoftImpute] Iter 49: observed MAE=258.498112 rank=3\n",
            "[SoftImpute] Iter 50: observed MAE=258.493786 rank=3\n",
            "[SoftImpute] Iter 51: observed MAE=258.489328 rank=3\n",
            "[SoftImpute] Iter 52: observed MAE=258.484735 rank=3\n",
            "[SoftImpute] Iter 53: observed MAE=258.480028 rank=3\n",
            "[SoftImpute] Iter 54: observed MAE=258.475212 rank=3\n",
            "[SoftImpute] Iter 55: observed MAE=258.470313 rank=3\n",
            "[SoftImpute] Iter 56: observed MAE=258.465350 rank=3\n",
            "[SoftImpute] Iter 57: observed MAE=258.460351 rank=3\n",
            "[SoftImpute] Iter 58: observed MAE=258.455289 rank=3\n",
            "[SoftImpute] Iter 59: observed MAE=258.450157 rank=3\n",
            "[SoftImpute] Iter 60: observed MAE=258.445012 rank=3\n",
            "[SoftImpute] Iter 61: observed MAE=258.439854 rank=3\n",
            "[SoftImpute] Iter 62: observed MAE=258.434672 rank=3\n",
            "[SoftImpute] Iter 63: observed MAE=258.429471 rank=3\n",
            "[SoftImpute] Iter 64: observed MAE=258.424248 rank=3\n",
            "[SoftImpute] Iter 65: observed MAE=258.418984 rank=3\n",
            "[SoftImpute] Iter 66: observed MAE=258.413706 rank=3\n",
            "[SoftImpute] Iter 67: observed MAE=258.408428 rank=3\n",
            "[SoftImpute] Iter 68: observed MAE=258.403171 rank=3\n",
            "[SoftImpute] Iter 69: observed MAE=258.397945 rank=3\n",
            "[SoftImpute] Iter 70: observed MAE=258.392752 rank=3\n",
            "[SoftImpute] Iter 71: observed MAE=258.387569 rank=3\n",
            "[SoftImpute] Iter 72: observed MAE=258.382405 rank=3\n",
            "[SoftImpute] Iter 73: observed MAE=258.377262 rank=3\n",
            "[SoftImpute] Iter 74: observed MAE=258.372153 rank=3\n",
            "[SoftImpute] Iter 75: observed MAE=258.367101 rank=3\n",
            "[SoftImpute] Iter 76: observed MAE=258.362084 rank=3\n",
            "[SoftImpute] Iter 77: observed MAE=258.357117 rank=3\n",
            "[SoftImpute] Iter 78: observed MAE=258.352195 rank=3\n",
            "[SoftImpute] Iter 79: observed MAE=258.347319 rank=3\n",
            "[SoftImpute] Iter 80: observed MAE=258.342510 rank=3\n",
            "[SoftImpute] Iter 81: observed MAE=258.337753 rank=3\n",
            "[SoftImpute] Iter 82: observed MAE=258.333054 rank=3\n",
            "[SoftImpute] Iter 83: observed MAE=258.328416 rank=3\n",
            "[SoftImpute] Iter 84: observed MAE=258.323839 rank=3\n",
            "[SoftImpute] Iter 85: observed MAE=258.319325 rank=3\n",
            "[SoftImpute] Iter 86: observed MAE=258.314876 rank=3\n",
            "[SoftImpute] Iter 87: observed MAE=258.310482 rank=3\n",
            "[SoftImpute] Iter 88: observed MAE=258.306147 rank=3\n",
            "[SoftImpute] Iter 89: observed MAE=258.301868 rank=3\n",
            "[SoftImpute] Iter 90: observed MAE=258.297650 rank=3\n",
            "[SoftImpute] Iter 91: observed MAE=258.293496 rank=3\n",
            "[SoftImpute] Iter 92: observed MAE=258.289402 rank=3\n",
            "[SoftImpute] Iter 93: observed MAE=258.285366 rank=3\n",
            "[SoftImpute] Iter 94: observed MAE=258.281392 rank=3\n",
            "[SoftImpute] Iter 95: observed MAE=258.277476 rank=3\n",
            "[SoftImpute] Iter 96: observed MAE=258.273621 rank=3\n",
            "[SoftImpute] Iter 97: observed MAE=258.269832 rank=3\n",
            "[SoftImpute] Iter 98: observed MAE=258.266108 rank=3\n",
            "[SoftImpute] Iter 99: observed MAE=258.262452 rank=3\n",
            "[SoftImpute] Iter 100: observed MAE=258.258864 rank=3\n",
            "[SoftImpute] Stopped after iteration 100 for lambda=461844.437368\n"
          ]
        }
      ],
      "source": [
        "#Imputing missing data with soft impute\n",
        "updated_data=pd.DataFrame(data=SoftImpute().fit_transform(data[data.columns[3:19]],), columns=data[data.columns[3:19]].columns, index=data.index)\n",
        "#Getting the dataset ready pd.get dummies function for dropping the dummy variables\n",
        "df_LC = pd.get_dummies(updated_data, drop_first=True)"
      ]
    },
    {
      "cell_type": "code",
      "execution_count": 83,
      "metadata": {
        "colab": {
          "base_uri": "https://localhost:8080/"
        },
        "id": "ddDq2gpJ2A1f",
        "outputId": "cb3bf2fd-958b-4ddc-e615-1e44f770426c"
      },
      "outputs": [
        {
          "name": "stdout",
          "output_type": "stream",
          "text": [
            "[[-0.1869176  -0.57302977  0.06886311 ... -0.79845518 -0.32295035\n",
            "  -0.10958408]\n",
            " [ 1.48349848  1.74511004  0.26644983 ...  1.83825771 -0.32295035\n",
            "  -0.10958408]\n",
            " [ 0.32079375 -0.57302977 -0.08920626 ... -0.53977375  2.39304617\n",
            "  -0.10958408]\n",
            " ...\n",
            " [ 1.40247376 -0.57302977  0.78017528 ...  0.91232955 -0.32295035\n",
            "  -0.10958408]\n",
            " [-1.1281112  -0.57302977 -0.16824094 ... -0.4039368  -0.32295035\n",
            "  -0.10958408]\n",
            " [ 0.62515919 -0.57302977 -0.32631031 ... -0.30218149 -0.32295035\n",
            "   3.77361205]]\n",
            "   \n",
            "(88910, 16)\n"
          ]
        }
      ],
      "source": [
        "\n",
        "#Binarizing the Target variable\n",
        "lb_style = LabelBinarizer()\n",
        "lb_results = lb_style.fit_transform(data['Loan Status'])\n",
        "y=lb_results\n",
        "y=y.ravel()\n",
        "\n",
        "\n",
        "#Scaling the independent variables\n",
        "X_scaled = preprocessing.scale(df_LC)\n",
        "print(X_scaled)\n",
        "print('   ')\n",
        "print(X_scaled.shape)\n"
      ]
    },
    {
      "cell_type": "code",
      "execution_count": 84,
      "metadata": {
        "id": "mDmj6_Dk2D1G"
      },
      "outputs": [],
      "source": [
        "#######Looking at other models using different classifiers\n",
        "X_train, X_test, y_train, y_test = train_test_split(X_scaled, y, test_size=0.3, random_state=22)"
      ]
    },
    {
      "cell_type": "code",
      "execution_count": 85,
      "metadata": {
        "colab": {
          "base_uri": "https://localhost:8080/",
          "height": 819
        },
        "id": "DG8i8SLz2GZg",
        "outputId": "a0720443-8702-4294-f5a2-058532767fca"
      },
      "outputs": [
        {
          "name": "stdout",
          "output_type": "stream",
          "text": [
            "Accuracy:  0.7276646796385858\n",
            "Area under the ROC curve:  0.7437786371367399\n",
            "F-metric:  0.38419803323160395\n",
            " \n",
            "Classification report:\n",
            "              precision    recall  f1-score   support\n",
            "\n",
            "           0       0.76      0.90      0.83     18981\n",
            "           1       0.55      0.29      0.38      7692\n",
            "\n",
            "    accuracy                           0.73     26673\n",
            "   macro avg       0.66      0.60      0.60     26673\n",
            "weighted avg       0.70      0.73      0.70     26673\n",
            "\n",
            " \n",
            "Evaluation by cross-validation:\n",
            "[0.73088046 0.73762853 0.73150157 0.73150157 0.72740419]\n",
            "[0.15770203 0.25137326 0.16299245 0.02831689 0.04490009 0.04055737\n",
            " 0.03080421 0.03046158 0.02761248 0.02706706 0.02785725 0.02524857\n",
            " 0.03073877 0.03578309 0.03659303 0.04199181]\n"
          ]
        },
        {
          "data": {
            "image/png": "[encoded data removed]",
            "text/plain": [
              "<Figure size 640x480 with 1 Axes>"
            ]
          },
          "metadata": {},
          "output_type": "display_data"
        }
      ],
      "source": [
        "#Finding accuracy and feature importance using XGB classifier\n",
        "xgb0, y_pred_b, y_pred2_b = classify(XGBClassifier(), X_train, y_train,X_test,y_test)\n",
        "print(xgb0.feature_importances_)\n",
        "plot_importance(xgb0)\n",
        "pyplot.show()\n",
        "feat1 = feat_importance(xgb0)\n"
      ]
    },
    {
      "cell_type": "code",
      "execution_count": 86,
      "metadata": {
        "colab": {
          "base_uri": "https://localhost:8080/"
        },
        "id": "Wz1Fd1u22M0j",
        "outputId": "992f2ab8-b770-4d22-c404-4321a0b3b690"
      },
      "outputs": [
        {
          "name": "stdout",
          "output_type": "stream",
          "text": [
            "Accuracy:  0.7290893412814456\n",
            "Area under the ROC curve:  0.7381636980878846\n",
            "F-metric:  0.3349898766795509\n",
            " \n",
            "Classification report:\n",
            "              precision    recall  f1-score   support\n",
            "\n",
            "           0       0.75      0.93      0.83     18981\n",
            "           1       0.57      0.24      0.33      7692\n",
            "\n",
            "    accuracy                           0.73     26673\n",
            "   macro avg       0.66      0.58      0.58     26673\n",
            "weighted avg       0.70      0.73      0.69     26673\n",
            "\n",
            " \n",
            "Evaluation by cross-validation:\n",
            "[0.73666452 0.74116324 0.73608098 0.73664337 0.73013578]\n"
          ]
        }
      ],
      "source": [
        "xgb0, y_pred_b, y_pred2_b = classify(XGBClassifier(n_estimators=47, learning_rate=0.015), X_train, y_train,X_test,y_test)"
      ]
    },
    {
      "cell_type": "code",
      "execution_count": 87,
      "metadata": {
        "colab": {
          "base_uri": "https://localhost:8080/"
        },
        "id": "lTDGHAjm78iY",
        "outputId": "8c7e59d1-b2be-4321-f6b4-0494c46407ca"
      },
      "outputs": [
        {
          "name": "stdout",
          "output_type": "stream",
          "text": [
            "Accuracy:  0.6839500618603082\n",
            "Area under the ROC curve:  0.6073078340129547\n",
            "F-metric:  0.30992141453831046\n",
            " \n",
            "Classification report:\n",
            "              precision    recall  f1-score   support\n",
            "\n",
            "           0       0.74      0.86      0.80     18981\n",
            "           1       0.42      0.25      0.31      7692\n",
            "\n",
            "    accuracy                           0.68     26673\n",
            "   macro avg       0.58      0.55      0.55     26673\n",
            "weighted avg       0.65      0.68      0.66     26673\n",
            "\n",
            " \n",
            "Evaluation by cross-validation:\n",
            "[0.69368573 0.69705977 0.69783884 0.69141159 0.68747489]\n"
          ]
        }
      ],
      "source": [
        "#######K nearest Neighbour classifier ################\n",
        "\n",
        "knc, y_p, y_p2 = classify(KNeighborsClassifier(), X_train, y_train,X_test,y_test)\n"
      ]
    },
    {
      "cell_type": "code",
      "execution_count": 88,
      "metadata": {
        "colab": {
          "base_uri": "https://localhost:8080/"
        },
        "id": "XnQkIMC87_Ng",
        "outputId": "341a4102-0bdb-43b5-a786-7c38833a763e"
      },
      "outputs": [
        {
          "name": "stdout",
          "output_type": "stream",
          "text": [
            "Accuracy:  0.7201289693697747\n",
            "Area under the ROC curve:  0.6722709585903062\n",
            "F-metric:  0.21213720316622697\n",
            " \n",
            "Classification report:\n",
            "              precision    recall  f1-score   support\n",
            "\n",
            "           0       0.73      0.96      0.83     18981\n",
            "           1       0.56      0.13      0.21      7692\n",
            "\n",
            "    accuracy                           0.72     26673\n",
            "   macro avg       0.65      0.54      0.52     26673\n",
            "weighted avg       0.68      0.72      0.65     26673\n",
            "\n",
            " \n",
            "Evaluation by cross-validation:\n",
            "[0.72606041 0.72919344 0.72812726 0.7282076  0.72684181]\n"
          ]
        }
      ],
      "source": [
        "########Logistic Regression ##############\n",
        "logit, y_p, y_p2 = classify(LogisticRegression(), X_train, y_train,X_test,y_test)"
      ]
    },
    {
      "cell_type": "code",
      "execution_count": 89,
      "metadata": {
        "colab": {
          "base_uri": "https://localhost:8080/"
        },
        "id": "gdj_OMv_2Qtk",
        "outputId": "44c8f2c7-f75a-406b-8ec5-56fc7e15ed5e"
      },
      "outputs": [
        {
          "name": "stdout",
          "output_type": "stream",
          "text": [
            "Accuracy:  0.6532073632512279\n",
            "Area under the ROC curve:  0.5801595277024294\n",
            "F-metric:  0.40399484536082475\n",
            " \n",
            "Classification report:\n",
            "              precision    recall  f1-score   support\n",
            "\n",
            "           0       0.76      0.75      0.76     18981\n",
            "           1       0.40      0.41      0.40      7692\n",
            "\n",
            "    accuracy                           0.65     26673\n",
            "   macro avg       0.58      0.58      0.58     26673\n",
            "weighted avg       0.66      0.65      0.65     26673\n",
            "\n",
            " \n",
            "Evaluation by cross-validation:\n",
            "[0.65560733 0.65641067 0.65903431 0.65774886 0.65212501]\n"
          ]
        }
      ],
      "source": [
        "########Decision Tree Classifier ##########\n",
        "dtc, y_p, y_p2 = classify(DecisionTreeClassifier(), X_train, y_train,X_test,y_test)"
      ]
    },
    {
      "cell_type": "code",
      "execution_count": 90,
      "metadata": {
        "colab": {
          "base_uri": "https://localhost:8080/",
          "height": 791
        },
        "id": "lTZCkByg2VBg",
        "outputId": "8a9dadd9-97ca-4875-9110-c08eb0d4731b"
      },
      "outputs": [
        {
          "name": "stdout",
          "output_type": "stream",
          "text": [
            "computing GradientBoosting - Non-balanced \n",
            "computing LogisticRegression - Non-balanced \n",
            "computing RandomForestClassifier - Non-balanced \n",
            "computing XGBClassifier - Non-balanced \n"
          ]
        },
        {
          "data": {
            "application/vnd.google.colaboratory.intrinsic+json": {
              "summary": "{\n  \"name\": \"models_report\",\n  \"rows\": 4,\n  \"fields\": [\n    {\n      \"column\": \"model\",\n      \"properties\": {\n        \"dtype\": \"string\",\n        \"num_unique_values\": 4,\n        \"samples\": [\n          \"LogisticRegression\",\n          \"XGBClassifier\",\n          \"GradientBoosting\"\n        ],\n        \"semantic_type\": \"\",\n        \"description\": \"\"\n      }\n    },\n    {\n      \"column\": \"matthews_corrcoef\",\n      \"properties\": {\n        \"dtype\": \"number\",\n        \"std\": 0.04476287284847958,\n        \"min\": 0.15818016516263703,\n        \"max\": 0.24577135242917963,\n        \"num_unique_values\": 4,\n        \"samples\": [\n          0.15818016516263703,\n          0.24570028985600076,\n          0.24577135242917963\n        ],\n        \"semantic_type\": \"\",\n        \"description\": \"\"\n      }\n    },\n    {\n      \"column\": \"roc_auc_score\",\n      \"properties\": {\n        \"dtype\": \"number\",\n        \"std\": 0.03835013680835993,\n        \"min\": 0.6724054328150308,\n        \"max\": 0.7528792598586267,\n        \"num_unique_values\": 4,\n        \"samples\": [\n          0.6724054328150308,\n          0.7438426234179121,\n          0.7528792598586267\n        ],\n        \"semantic_type\": \"\",\n        \"description\": \"\"\n      }\n    },\n    {\n      \"column\": \"precision_score\",\n      \"properties\": {\n        \"dtype\": \"number\",\n        \"std\": 0.03697296966922014,\n        \"min\": 0.49030849030849033,\n        \"max\": 0.5774058577405857,\n        \"num_unique_values\": 4,\n        \"samples\": [\n          0.5540308747855918,\n          0.5475776397515528,\n          0.5774058577405857\n        ],\n        \"semantic_type\": \"\",\n        \"description\": \"\"\n      }\n    },\n    {\n      \"column\": \"recall_score\",\n      \"properties\": {\n        \"dtype\": \"number\",\n        \"std\": 0.07007452176723997,\n        \"min\": 0.12765116585430114,\n        \"max\": 0.2903438282176261,\n        \"num_unique_values\": 4,\n        \"samples\": [\n          0.12765116585430114,\n          0.2903438282176261,\n          0.25451192201291\n        ],\n        \"semantic_type\": \"\",\n        \"description\": \"\"\n      }\n    },\n    {\n      \"column\": \"f1_score\",\n      \"properties\": {\n        \"dtype\": \"number\",\n        \"std\": 0.0757156575958756,\n        \"min\": 0.2074946466809422,\n        \"max\": 0.37947658402203854,\n        \"num_unique_values\": 4,\n        \"samples\": [\n          0.2074946466809422,\n          0.37947658402203854,\n          0.353296150681174\n        ],\n        \"semantic_type\": \"\",\n        \"description\": \"\"\n      }\n    },\n    {\n      \"column\": \"model_type\",\n      \"properties\": {\n        \"dtype\": \"category\",\n        \"num_unique_values\": 1,\n        \"samples\": [\n          \"Non-balanced\"\n        ],\n        \"semantic_type\": \"\",\n        \"description\": \"\"\n      }\n    }\n  ]\n}",
              "type": "dataframe",
              "variable_name": "models_report"
            },
            "text/html": [
              "\n",
              "  <div id=\"df-f02bb6fc-6eb4-47fd-a923-7eaea4eaa2f1\" class=\"colab-df-container\">\n",
              "    <div>\n",
              "<style scoped>\n",
              "    .dataframe tbody tr th:only-of-type {\n",
              "        vertical-align: middle;\n",
              "    }\n",
              "\n",
              "    .dataframe tbody tr th {\n",
              "        vertical-align: top;\n",
              "    }\n",
              "\n",
              "    .dataframe thead th {\n",
              "        text-align: right;\n",
              "    }\n",
              "</style>\n",
              "<table border=\"1\" class=\"dataframe\">\n",
              "  <thead>\n",
              "    <tr style=\"text-align: right;\">\n",
              "      <th></th>\n",
              "      <th>model</th>\n",
              "      <th>matthews_corrcoef</th>\n",
              "      <th>roc_auc_score</th>\n",
              "      <th>precision_score</th>\n",
              "      <th>recall_score</th>\n",
              "      <th>f1_score</th>\n",
              "      <th>model_type</th>\n",
              "    </tr>\n",
              "  </thead>\n",
              "  <tbody>\n",
              "    <tr>\n",
              "      <th>0</th>\n",
              "      <td>GradientBoosting</td>\n",
              "      <td>0.245771</td>\n",
              "      <td>0.752879</td>\n",
              "      <td>0.577406</td>\n",
              "      <td>0.254512</td>\n",
              "      <td>0.353296</td>\n",
              "      <td>Non-balanced</td>\n",
              "    </tr>\n",
              "    <tr>\n",
              "      <th>1</th>\n",
              "      <td>LogisticRegression</td>\n",
              "      <td>0.158180</td>\n",
              "      <td>0.672405</td>\n",
              "      <td>0.554031</td>\n",
              "      <td>0.127651</td>\n",
              "      <td>0.207495</td>\n",
              "      <td>Non-balanced</td>\n",
              "    </tr>\n",
              "    <tr>\n",
              "      <th>2</th>\n",
              "      <td>RandomForestClassifier</td>\n",
              "      <td>0.181900</td>\n",
              "      <td>0.696580</td>\n",
              "      <td>0.490308</td>\n",
              "      <td>0.236596</td>\n",
              "      <td>0.319175</td>\n",
              "      <td>Non-balanced</td>\n",
              "    </tr>\n",
              "    <tr>\n",
              "      <th>3</th>\n",
              "      <td>XGBClassifier</td>\n",
              "      <td>0.245700</td>\n",
              "      <td>0.743843</td>\n",
              "      <td>0.547578</td>\n",
              "      <td>0.290344</td>\n",
              "      <td>0.379477</td>\n",
              "      <td>Non-balanced</td>\n",
              "    </tr>\n",
              "  </tbody>\n",
              "</table>\n",
              "</div>\n",
              "    <div class=\"colab-df-buttons\">\n",
              "\n",
              "  <div class=\"colab-df-container\">\n",
              "    <button class=\"colab-df-convert\" onclick=\"convertToInteractive('df-f02bb6fc-6eb4-47fd-a923-7eaea4eaa2f1')\"\n",
              "            title=\"Convert this dataframe to an interactive table.\"\n",
              "            style=\"display:none;\">\n",
              "\n",
              "  <svg xmlns=\"http://www.w3.org/2000/svg\" height=\"24px\" viewBox=\"0 -960 960 960\">\n",
              "    <path d=\"M120-120v-720h720v720H120Zm60-500h600v-160H180v160Zm220 220h160v-160H400v160Zm0 220h160v-160H400v160ZM180-400h160v-160H180v160Zm440 0h160v-160H620v160ZM180-180h160v-160H180v160Zm440 0h160v-160H620v160Z\"/>\n",
              "  </svg>\n",
              "    </button>\n",
              "\n",
              "  <style>\n",
              "    .colab-df-container {\n",
              "      display:flex;\n",
              "      gap: 12px;\n",
              "    }\n",
              "\n",
              "    .colab-df-convert {\n",
              "      background-color: #E8F0FE;\n",
              "      border: none;\n",
              "      border-radius: 50%;\n",
              "      cursor: pointer;\n",
              "      display: none;\n",
              "      fill: #1967D2;\n",
              "      height: 32px;\n",
              "      padding: 0 0 0 0;\n",
              "      width: 32px;\n",
              "    }\n",
              "\n",
              "    .colab-df-convert:hover {\n",
              "      background-color: #E2EBFA;\n",
              "      box-shadow: 0px 1px 2px rgba(60, 64, 67, 0.3), 0px 1px 3px 1px rgba(60, 64, 67, 0.15);\n",
              "      fill: #174EA6;\n",
              "    }\n",
              "\n",
              "    .colab-df-buttons div {\n",
              "      margin-bottom: 4px;\n",
              "    }\n",
              "\n",
              "    [theme=dark] .colab-df-convert {\n",
              "      background-color: #3B4455;\n",
              "      fill: #D2E3FC;\n",
              "    }\n",
              "\n",
              "    [theme=dark] .colab-df-convert:hover {\n",
              "      background-color: #434B5C;\n",
              "      box-shadow: 0px 1px 3px 1px rgba(0, 0, 0, 0.15);\n",
              "      filter: drop-shadow(0px 1px 2px rgba(0, 0, 0, 0.3));\n",
              "      fill: #FFFFFF;\n",
              "    }\n",
              "  </style>\n",
              "\n",
              "    <script>\n",
              "      const buttonEl =\n",
              "        document.querySelector('#df-f02bb6fc-6eb4-47fd-a923-7eaea4eaa2f1 button.colab-df-convert');\n",
              "      buttonEl.style.display =\n",
              "        google.colab.kernel.accessAllowed ? 'block' : 'none';\n",
              "\n",
              "      async function convertToInteractive(key) {\n",
              "        const element = document.querySelector('#df-f02bb6fc-6eb4-47fd-a923-7eaea4eaa2f1');\n",
              "        const dataTable =\n",
              "          await google.colab.kernel.invokeFunction('convertToInteractive',\n",
              "                                                    [key], {});\n",
              "        if (!dataTable) return;\n",
              "\n",
              "        const docLinkHtml = 'Like what you see? Visit the ' +\n",
              "          '<a target=\"_blank\" href=https://colab.research.google.com/notebooks/data_table.ipynb>data table notebook</a>'\n",
              "          + ' to learn more about interactive tables.';\n",
              "        element.innerHTML = '';\n",
              "        dataTable['output_type'] = 'display_data';\n",
              "        await google.colab.output.renderOutput(dataTable, element);\n",
              "        const docLink = document.createElement('div');\n",
              "        docLink.innerHTML = docLinkHtml;\n",
              "        element.appendChild(docLink);\n",
              "      }\n",
              "    </script>\n",
              "  </div>\n",
              "\n",
              "\n",
              "<div id=\"df-1313df01-297b-488e-a6ff-443f635cc3fa\">\n",
              "  <button class=\"colab-df-quickchart\" onclick=\"quickchart('df-1313df01-297b-488e-a6ff-443f635cc3fa')\"\n",
              "            title=\"Suggest charts\"\n",
              "            style=\"display:none;\">\n",
              "\n",
              "<svg xmlns=\"http://www.w3.org/2000/svg\" height=\"24px\"viewBox=\"0 0 24 24\"\n",
              "     width=\"24px\">\n",
              "    <g>\n",
              "        <path d=\"M19 3H5c-1.1 0-2 .9-2 2v14c0 1.1.9 2 2 2h14c1.1 0 2-.9 2-2V5c0-1.1-.9-2-2-2zM9 17H7v-7h2v7zm4 0h-2V7h2v10zm4 0h-2v-4h2v4z\"/>\n",
              "    </g>\n",
              "</svg>\n",
              "  </button>\n",
              "\n",
              "<style>\n",
              "  .colab-df-quickchart {\n",
              "      --bg-color: #E8F0FE;\n",
              "      --fill-color: #1967D2;\n",
              "      --hover-bg-color: #E2EBFA;\n",
              "      --hover-fill-color: #174EA6;\n",
              "      --disabled-fill-color: #AAA;\n",
              "      --disabled-bg-color: #DDD;\n",
              "  }\n",
              "\n",
              "  [theme=dark] .colab-df-quickchart {\n",
              "      --bg-color: #3B4455;\n",
              "      --fill-color: #D2E3FC;\n",
              "      --hover-bg-color: #434B5C;\n",
              "      --hover-fill-color: #FFFFFF;\n",
              "      --disabled-bg-color: #3B4455;\n",
              "      --disabled-fill-color: #666;\n",
              "  }\n",
              "\n",
              "  .colab-df-quickchart {\n",
              "    background-color: var(--bg-color);\n",
              "    border: none;\n",
              "    border-radius: 50%;\n",
              "    cursor: pointer;\n",
              "    display: none;\n",
              "    fill: var(--fill-color);\n",
              "    height: 32px;\n",
              "    padding: 0;\n",
              "    width: 32px;\n",
              "  }\n",
              "\n",
              "  .colab-df-quickchart:hover {\n",
              "    background-color: var(--hover-bg-color);\n",
              "    box-shadow: 0 1px 2px rgba(60, 64, 67, 0.3), 0 1px 3px 1px rgba(60, 64, 67, 0.15);\n",
              "    fill: var(--button-hover-fill-color);\n",
              "  }\n",
              "\n",
              "  .colab-df-quickchart-complete:disabled,\n",
              "  .colab-df-quickchart-complete:disabled:hover {\n",
              "    background-color: var(--disabled-bg-color);\n",
              "    fill: var(--disabled-fill-color);\n",
              "    box-shadow: none;\n",
              "  }\n",
              "\n",
              "  .colab-df-spinner {\n",
              "    border: 2px solid var(--fill-color);\n",
              "    border-color: transparent;\n",
              "    border-bottom-color: var(--fill-color);\n",
              "    animation:\n",
              "      spin 1s steps(1) infinite;\n",
              "  }\n",
              "\n",
              "  @keyframes spin {\n",
              "    0% {\n",
              "      border-color: transparent;\n",
              "      border-bottom-color: var(--fill-color);\n",
              "      border-left-color: var(--fill-color);\n",
              "    }\n",
              "    20% {\n",
              "      border-color: transparent;\n",
              "      border-left-color: var(--fill-color);\n",
              "      border-top-color: var(--fill-color);\n",
              "    }\n",
              "    30% {\n",
              "      border-color: transparent;\n",
              "      border-left-color: var(--fill-color);\n",
              "      border-top-color: var(--fill-color);\n",
              "      border-right-color: var(--fill-color);\n",
              "    }\n",
              "    40% {\n",
              "      border-color: transparent;\n",
              "      border-right-color: var(--fill-color);\n",
              "      border-top-color: var(--fill-color);\n",
              "    }\n",
              "    60% {\n",
              "      border-color: transparent;\n",
              "      border-right-color: var(--fill-color);\n",
              "    }\n",
              "    80% {\n",
              "      border-color: transparent;\n",
              "      border-right-color: var(--fill-color);\n",
              "      border-bottom-color: var(--fill-color);\n",
              "    }\n",
              "    90% {\n",
              "      border-color: transparent;\n",
              "      border-bottom-color: var(--fill-color);\n",
              "    }\n",
              "  }\n",
              "</style>\n",
              "\n",
              "  <script>\n",
              "    async function quickchart(key) {\n",
              "      const quickchartButtonEl =\n",
              "        document.querySelector('#' + key + ' button');\n",
              "      quickchartButtonEl.disabled = true;  // To prevent multiple clicks.\n",
              "      quickchartButtonEl.classList.add('colab-df-spinner');\n",
              "      try {\n",
              "        const charts = await google.colab.kernel.invokeFunction(\n",
              "            'suggestCharts', [key], {});\n",
              "      } catch (error) {\n",
              "        console.error('Error during call to suggestCharts:', error);\n",
              "      }\n",
              "      quickchartButtonEl.classList.remove('colab-df-spinner');\n",
              "      quickchartButtonEl.classList.add('colab-df-quickchart-complete');\n",
              "    }\n",
              "    (() => {\n",
              "      let quickchartButtonEl =\n",
              "        document.querySelector('#df-1313df01-297b-488e-a6ff-443f635cc3fa button');\n",
              "      quickchartButtonEl.style.display =\n",
              "        google.colab.kernel.accessAllowed ? 'block' : 'none';\n",
              "    })();\n",
              "  </script>\n",
              "</div>\n",
              "\n",
              "  <div id=\"id_2982a36f-6789-4259-abf6-d4a463219d4b\">\n",
              "    <style>\n",
              "      .colab-df-generate {\n",
              "        background-color: #E8F0FE;\n",
              "        border: none;\n",
              "        border-radius: 50%;\n",
              "        cursor: pointer;\n",
              "        display: none;\n",
              "        fill: #1967D2;\n",
              "        height: 32px;\n",
              "        padding: 0 0 0 0;\n",
              "        width: 32px;\n",
              "      }\n",
              "\n",
              "      .colab-df-generate:hover {\n",
              "        background-color: #E2EBFA;\n",
              "        box-shadow: 0px 1px 2px rgba(60, 64, 67, 0.3), 0px 1px 3px 1px rgba(60, 64, 67, 0.15);\n",
              "        fill: #174EA6;\n",
              "      }\n",
              "\n",
              "      [theme=dark] .colab-df-generate {\n",
              "        background-color: #3B4455;\n",
              "        fill: #D2E3FC;\n",
              "      }\n",
              "\n",
              "      [theme=dark] .colab-df-generate:hover {\n",
              "        background-color: #434B5C;\n",
              "        box-shadow: 0px 1px 3px 1px rgba(0, 0, 0, 0.15);\n",
              "        filter: drop-shadow(0px 1px 2px rgba(0, 0, 0, 0.3));\n",
              "        fill: #FFFFFF;\n",
              "      }\n",
              "    </style>\n",
              "    <button class=\"colab-df-generate\" onclick=\"generateWithVariable('models_report')\"\n",
              "            title=\"Generate code using this dataframe.\"\n",
              "            style=\"display:none;\">\n",
              "\n",
              "  <svg xmlns=\"http://www.w3.org/2000/svg\" height=\"24px\"viewBox=\"0 0 24 24\"\n",
              "       width=\"24px\">\n",
              "    <path d=\"M7,19H8.4L18.45,9,17,7.55,7,17.6ZM5,21V16.75L18.45,3.32a2,2,0,0,1,2.83,0l1.4,1.43a1.91,1.91,0,0,1,.58,1.4,1.91,1.91,0,0,1-.58,1.4L9.25,21ZM18.45,9,17,7.55Zm-12,3A5.31,5.31,0,0,0,4.9,8.1,5.31,5.31,0,0,0,1,6.5,5.31,5.31,0,0,0,4.9,4.9,5.31,5.31,0,0,0,6.5,1,5.31,5.31,0,0,0,8.1,4.9,5.31,5.31,0,0,0,12,6.5,5.46,5.46,0,0,0,6.5,12Z\"/>\n",
              "  </svg>\n",
              "    </button>\n",
              "    <script>\n",
              "      (() => {\n",
              "      const buttonEl =\n",
              "        document.querySelector('#id_2982a36f-6789-4259-abf6-d4a463219d4b button.colab-df-generate');\n",
              "      buttonEl.style.display =\n",
              "        google.colab.kernel.accessAllowed ? 'block' : 'none';\n",
              "\n",
              "      buttonEl.onclick = () => {\n",
              "        google.colab.notebook.generateWithVariable('models_report');\n",
              "      }\n",
              "      })();\n",
              "    </script>\n",
              "  </div>\n",
              "\n",
              "    </div>\n",
              "  </div>\n"
            ],
            "text/plain": [
              "                    model  matthews_corrcoef  roc_auc_score  precision_score  \\\n",
              "0        GradientBoosting           0.245771       0.752879         0.577406   \n",
              "1      LogisticRegression           0.158180       0.672405         0.554031   \n",
              "2  RandomForestClassifier           0.181900       0.696580         0.490308   \n",
              "3           XGBClassifier           0.245700       0.743843         0.547578   \n",
              "\n",
              "   recall_score  f1_score    model_type  \n",
              "0      0.254512  0.353296  Non-balanced  \n",
              "1      0.127651  0.207495  Non-balanced  \n",
              "2      0.236596  0.319175  Non-balanced  \n",
              "3      0.290344  0.379477  Non-balanced  "
            ]
          },
          "execution_count": 90,
          "metadata": {},
          "output_type": "execute_result"
        },
        {
          "data": {
            "image/png": "[encoded data removed]",
            "text/plain": [
              "<Figure size 600x600 with 1 Axes>"
            ]
          },
          "metadata": {},
          "output_type": "display_data"
        }
      ],
      "source": [
        "X_train, X_test, y_train, y_test = train_test_split(X_scaled, y, test_size=0.3, random_state=0)\n",
        "models_report, conf_matrix = run_models(X_train, y_train, X_test, y_test, model_type = 'Non-balanced')\n",
        "models_report"
      ]
    },
    {
      "cell_type": "code",
      "execution_count": 91,
      "metadata": {
        "colab": {
          "base_uri": "https://localhost:8080/",
          "height": 791
        },
        "id": "t1okYTxx8IZg",
        "outputId": "7f355f01-0d33-45b1-8c45-3b863e921e29"
      },
      "outputs": [
        {
          "name": "stdout",
          "output_type": "stream",
          "text": [
            "computing GradientBoosting - Balanced \n",
            "computing LogisticRegression - Balanced \n",
            "computing RandomForestClassifier - Balanced \n",
            "computing XGBClassifier - Balanced \n"
          ]
        },
        {
          "data": {
            "application/vnd.google.colaboratory.intrinsic+json": {
              "summary": "{\n  \"name\": \"models_report_bal\",\n  \"rows\": 4,\n  \"fields\": [\n    {\n      \"column\": \"model\",\n      \"properties\": {\n        \"dtype\": \"string\",\n        \"num_unique_values\": 4,\n        \"samples\": [\n          \"LogisticRegression\",\n          \"XGBClassifier\",\n          \"GradientBoosting\"\n        ],\n        \"semantic_type\": \"\",\n        \"description\": \"\"\n      }\n    },\n    {\n      \"column\": \"matthews_corrcoef\",\n      \"properties\": {\n        \"dtype\": \"number\",\n        \"std\": 0.036294141126926235,\n        \"min\": 0.15511751021120232,\n        \"max\": 0.24256900749242777,\n        \"num_unique_values\": 4,\n        \"samples\": [\n          0.24256900749242777,\n          0.19930857162097015,\n          0.1859462875094032\n        ],\n        \"semantic_type\": \"\",\n        \"description\": \"\"\n      }\n    },\n    {\n      \"column\": \"roc_auc_score\",\n      \"properties\": {\n        \"dtype\": \"number\",\n        \"std\": 0.027925907124103977,\n        \"min\": 0.6208021645199991,\n        \"max\": 0.6814295519775684,\n        \"num_unique_values\": 4,\n        \"samples\": [\n          0.6814295519775684,\n          0.6715445681634038,\n          0.6751883886448217\n        ],\n        \"semantic_type\": \"\",\n        \"description\": \"\"\n      }\n    },\n    {\n      \"column\": \"precision_score\",\n      \"properties\": {\n        \"dtype\": \"number\",\n        \"std\": 0.047674995044335026,\n        \"min\": 0.3260129821852392,\n        \"max\": 0.427408328154133,\n        \"num_unique_values\": 4,\n        \"samples\": [\n          0.427408328154133,\n          0.3418090062111801,\n          0.3260129821852392\n        ],\n        \"semantic_type\": \"\",\n        \"description\": \"\"\n      }\n    },\n    {\n      \"column\": \"recall_score\",\n      \"properties\": {\n        \"dtype\": \"number\",\n        \"std\": 0.15698907219858194,\n        \"min\": 0.5477499004380725,\n        \"max\": 0.9080844285145361,\n        \"num_unique_values\": 4,\n        \"samples\": [\n          0.5477499004380725,\n          0.8415770609318997,\n          0.9080844285145361\n        ],\n        \"semantic_type\": \"\",\n        \"description\": \"\"\n      }\n    },\n    {\n      \"column\": \"f1_score\",\n      \"properties\": {\n        \"dtype\": \"number\",\n        \"std\": 0.008321622856506642,\n        \"min\": 0.46645006356830065,\n        \"max\": 0.4861619159362275,\n        \"num_unique_values\": 4,\n        \"samples\": [\n          0.48015360446849364,\n          0.4861619159362275,\n          0.4797794891217439\n        ],\n        \"semantic_type\": \"\",\n        \"description\": \"\"\n      }\n    },\n    {\n      \"column\": \"model_type\",\n      \"properties\": {\n        \"dtype\": \"category\",\n        \"num_unique_values\": 1,\n        \"samples\": [\n          \"Balanced\"\n        ],\n        \"semantic_type\": \"\",\n        \"description\": \"\"\n      }\n    }\n  ]\n}",
              "type": "dataframe",
              "variable_name": "models_report_bal"
            },
            "text/html": [
              "\n",
              "  <div id=\"df-1d669656-97da-48d1-8998-4df2429b4a26\" class=\"colab-df-container\">\n",
              "    <div>\n",
              "<style scoped>\n",
              "    .dataframe tbody tr th:only-of-type {\n",
              "        vertical-align: middle;\n",
              "    }\n",
              "\n",
              "    .dataframe tbody tr th {\n",
              "        vertical-align: top;\n",
              "    }\n",
              "\n",
              "    .dataframe thead th {\n",
              "        text-align: right;\n",
              "    }\n",
              "</style>\n",
              "<table border=\"1\" class=\"dataframe\">\n",
              "  <thead>\n",
              "    <tr style=\"text-align: right;\">\n",
              "      <th></th>\n",
              "      <th>model</th>\n",
              "      <th>matthews_corrcoef</th>\n",
              "      <th>roc_auc_score</th>\n",
              "      <th>precision_score</th>\n",
              "      <th>recall_score</th>\n",
              "      <th>f1_score</th>\n",
              "      <th>model_type</th>\n",
              "    </tr>\n",
              "  </thead>\n",
              "  <tbody>\n",
              "    <tr>\n",
              "      <th>0</th>\n",
              "      <td>GradientBoosting</td>\n",
              "      <td>0.185946</td>\n",
              "      <td>0.675188</td>\n",
              "      <td>0.326013</td>\n",
              "      <td>0.908084</td>\n",
              "      <td>0.479779</td>\n",
              "      <td>Balanced</td>\n",
              "    </tr>\n",
              "    <tr>\n",
              "      <th>1</th>\n",
              "      <td>LogisticRegression</td>\n",
              "      <td>0.242569</td>\n",
              "      <td>0.681430</td>\n",
              "      <td>0.427408</td>\n",
              "      <td>0.547750</td>\n",
              "      <td>0.480154</td>\n",
              "      <td>Balanced</td>\n",
              "    </tr>\n",
              "    <tr>\n",
              "      <th>2</th>\n",
              "      <td>RandomForestClassifier</td>\n",
              "      <td>0.155118</td>\n",
              "      <td>0.620802</td>\n",
              "      <td>0.331094</td>\n",
              "      <td>0.789008</td>\n",
              "      <td>0.466450</td>\n",
              "      <td>Balanced</td>\n",
              "    </tr>\n",
              "    <tr>\n",
              "      <th>3</th>\n",
              "      <td>XGBClassifier</td>\n",
              "      <td>0.199309</td>\n",
              "      <td>0.671545</td>\n",
              "      <td>0.341809</td>\n",
              "      <td>0.841577</td>\n",
              "      <td>0.486162</td>\n",
              "      <td>Balanced</td>\n",
              "    </tr>\n",
              "  </tbody>\n",
              "</table>\n",
              "</div>\n",
              "    <div class=\"colab-df-buttons\">\n",
              "\n",
              "  <div class=\"colab-df-container\">\n",
              "    <button class=\"colab-df-convert\" onclick=\"convertToInteractive('df-1d669656-97da-48d1-8998-4df2429b4a26')\"\n",
              "            title=\"Convert this dataframe to an interactive table.\"\n",
              "            style=\"display:none;\">\n",
              "\n",
              "  <svg xmlns=\"http://www.w3.org/2000/svg\" height=\"24px\" viewBox=\"0 -960 960 960\">\n",
              "    <path d=\"M120-120v-720h720v720H120Zm60-500h600v-160H180v160Zm220 220h160v-160H400v160Zm0 220h160v-160H400v160ZM180-400h160v-160H180v160Zm440 0h160v-160H620v160ZM180-180h160v-160H180v160Zm440 0h160v-160H620v160Z\"/>\n",
              "  </svg>\n",
              "    </button>\n",
              "\n",
              "  <style>\n",
              "    .colab-df-container {\n",
              "      display:flex;\n",
              "      gap: 12px;\n",
              "    }\n",
              "\n",
              "    .colab-df-convert {\n",
              "      background-color: #E8F0FE;\n",
              "      border: none;\n",
              "      border-radius: 50%;\n",
              "      cursor: pointer;\n",
              "      display: none;\n",
              "      fill: #1967D2;\n",
              "      height: 32px;\n",
              "      padding: 0 0 0 0;\n",
              "      width: 32px;\n",
              "    }\n",
              "\n",
              "    .colab-df-convert:hover {\n",
              "      background-color: #E2EBFA;\n",
              "      box-shadow: 0px 1px 2px rgba(60, 64, 67, 0.3), 0px 1px 3px 1px rgba(60, 64, 67, 0.15);\n",
              "      fill: #174EA6;\n",
              "    }\n",
              "\n",
              "    .colab-df-buttons div {\n",
              "      margin-bottom: 4px;\n",
              "    }\n",
              "\n",
              "    [theme=dark] .colab-df-convert {\n",
              "      background-color: #3B4455;\n",
              "      fill: #D2E3FC;\n",
              "    }\n",
              "\n",
              "    [theme=dark] .colab-df-convert:hover {\n",
              "      background-color: #434B5C;\n",
              "      box-shadow: 0px 1px 3px 1px rgba(0, 0, 0, 0.15);\n",
              "      filter: drop-shadow(0px 1px 2px rgba(0, 0, 0, 0.3));\n",
              "      fill: #FFFFFF;\n",
              "    }\n",
              "  </style>\n",
              "\n",
              "    <script>\n",
              "      const buttonEl =\n",
              "        document.querySelector('#df-1d669656-97da-48d1-8998-4df2429b4a26 button.colab-df-convert');\n",
              "      buttonEl.style.display =\n",
              "        google.colab.kernel.accessAllowed ? 'block' : 'none';\n",
              "\n",
              "      async function convertToInteractive(key) {\n",
              "        const element = document.querySelector('#df-1d669656-97da-48d1-8998-4df2429b4a26');\n",
              "        const dataTable =\n",
              "          await google.colab.kernel.invokeFunction('convertToInteractive',\n",
              "                                                    [key], {});\n",
              "        if (!dataTable) return;\n",
              "\n",
              "        const docLinkHtml = 'Like what you see? Visit the ' +\n",
              "          '<a target=\"_blank\" href=https://colab.research.google.com/notebooks/data_table.ipynb>data table notebook</a>'\n",
              "          + ' to learn more about interactive tables.';\n",
              "        element.innerHTML = '';\n",
              "        dataTable['output_type'] = 'display_data';\n",
              "        await google.colab.output.renderOutput(dataTable, element);\n",
              "        const docLink = document.createElement('div');\n",
              "        docLink.innerHTML = docLinkHtml;\n",
              "        element.appendChild(docLink);\n",
              "      }\n",
              "    </script>\n",
              "  </div>\n",
              "\n",
              "\n",
              "<div id=\"df-587b0c90-75d4-439b-803a-900e1795089f\">\n",
              "  <button class=\"colab-df-quickchart\" onclick=\"quickchart('df-587b0c90-75d4-439b-803a-900e1795089f')\"\n",
              "            title=\"Suggest charts\"\n",
              "            style=\"display:none;\">\n",
              "\n",
              "<svg xmlns=\"http://www.w3.org/2000/svg\" height=\"24px\"viewBox=\"0 0 24 24\"\n",
              "     width=\"24px\">\n",
              "    <g>\n",
              "        <path d=\"M19 3H5c-1.1 0-2 .9-2 2v14c0 1.1.9 2 2 2h14c1.1 0 2-.9 2-2V5c0-1.1-.9-2-2-2zM9 17H7v-7h2v7zm4 0h-2V7h2v10zm4 0h-2v-4h2v4z\"/>\n",
              "    </g>\n",
              "</svg>\n",
              "  </button>\n",
              "\n",
              "<style>\n",
              "  .colab-df-quickchart {\n",
              "      --bg-color: #E8F0FE;\n",
              "      --fill-color: #1967D2;\n",
              "      --hover-bg-color: #E2EBFA;\n",
              "      --hover-fill-color: #174EA6;\n",
              "      --disabled-fill-color: #AAA;\n",
              "      --disabled-bg-color: #DDD;\n",
              "  }\n",
              "\n",
              "  [theme=dark] .colab-df-quickchart {\n",
              "      --bg-color: #3B4455;\n",
              "      --fill-color: #D2E3FC;\n",
              "      --hover-bg-color: #434B5C;\n",
              "      --hover-fill-color: #FFFFFF;\n",
              "      --disabled-bg-color: #3B4455;\n",
              "      --disabled-fill-color: #666;\n",
              "  }\n",
              "\n",
              "  .colab-df-quickchart {\n",
              "    background-color: var(--bg-color);\n",
              "    border: none;\n",
              "    border-radius: 50%;\n",
              "    cursor: pointer;\n",
              "    display: none;\n",
              "    fill: var(--fill-color);\n",
              "    height: 32px;\n",
              "    padding: 0;\n",
              "    width: 32px;\n",
              "  }\n",
              "\n",
              "  .colab-df-quickchart:hover {\n",
              "    background-color: var(--hover-bg-color);\n",
              "    box-shadow: 0 1px 2px rgba(60, 64, 67, 0.3), 0 1px 3px 1px rgba(60, 64, 67, 0.15);\n",
              "    fill: var(--button-hover-fill-color);\n",
              "  }\n",
              "\n",
              "  .colab-df-quickchart-complete:disabled,\n",
              "  .colab-df-quickchart-complete:disabled:hover {\n",
              "    background-color: var(--disabled-bg-color);\n",
              "    fill: var(--disabled-fill-color);\n",
              "    box-shadow: none;\n",
              "  }\n",
              "\n",
              "  .colab-df-spinner {\n",
              "    border: 2px solid var(--fill-color);\n",
              "    border-color: transparent;\n",
              "    border-bottom-color: var(--fill-color);\n",
              "    animation:\n",
              "      spin 1s steps(1) infinite;\n",
              "  }\n",
              "\n",
              "  @keyframes spin {\n",
              "    0% {\n",
              "      border-color: transparent;\n",
              "      border-bottom-color: var(--fill-color);\n",
              "      border-left-color: var(--fill-color);\n",
              "    }\n",
              "    20% {\n",
              "      border-color: transparent;\n",
              "      border-left-color: var(--fill-color);\n",
              "      border-top-color: var(--fill-color);\n",
              "    }\n",
              "    30% {\n",
              "      border-color: transparent;\n",
              "      border-left-color: var(--fill-color);\n",
              "      border-top-color: var(--fill-color);\n",
              "      border-right-color: var(--fill-color);\n",
              "    }\n",
              "    40% {\n",
              "      border-color: transparent;\n",
              "      border-right-color: var(--fill-color);\n",
              "      border-top-color: var(--fill-color);\n",
              "    }\n",
              "    60% {\n",
              "      border-color: transparent;\n",
              "      border-right-color: var(--fill-color);\n",
              "    }\n",
              "    80% {\n",
              "      border-color: transparent;\n",
              "      border-right-color: var(--fill-color);\n",
              "      border-bottom-color: var(--fill-color);\n",
              "    }\n",
              "    90% {\n",
              "      border-color: transparent;\n",
              "      border-bottom-color: var(--fill-color);\n",
              "    }\n",
              "  }\n",
              "</style>\n",
              "\n",
              "  <script>\n",
              "    async function quickchart(key) {\n",
              "      const quickchartButtonEl =\n",
              "        document.querySelector('#' + key + ' button');\n",
              "      quickchartButtonEl.disabled = true;  // To prevent multiple clicks.\n",
              "      quickchartButtonEl.classList.add('colab-df-spinner');\n",
              "      try {\n",
              "        const charts = await google.colab.kernel.invokeFunction(\n",
              "            'suggestCharts', [key], {});\n",
              "      } catch (error) {\n",
              "        console.error('Error during call to suggestCharts:', error);\n",
              "      }\n",
              "      quickchartButtonEl.classList.remove('colab-df-spinner');\n",
              "      quickchartButtonEl.classList.add('colab-df-quickchart-complete');\n",
              "    }\n",
              "    (() => {\n",
              "      let quickchartButtonEl =\n",
              "        document.querySelector('#df-587b0c90-75d4-439b-803a-900e1795089f button');\n",
              "      quickchartButtonEl.style.display =\n",
              "        google.colab.kernel.accessAllowed ? 'block' : 'none';\n",
              "    })();\n",
              "  </script>\n",
              "</div>\n",
              "\n",
              "  <div id=\"id_40bdff2a-c89d-4634-b361-ba3a73a8e9b6\">\n",
              "    <style>\n",
              "      .colab-df-generate {\n",
              "        background-color: #E8F0FE;\n",
              "        border: none;\n",
              "        border-radius: 50%;\n",
              "        cursor: pointer;\n",
              "        display: none;\n",
              "        fill: #1967D2;\n",
              "        height: 32px;\n",
              "        padding: 0 0 0 0;\n",
              "        width: 32px;\n",
              "      }\n",
              "\n",
              "      .colab-df-generate:hover {\n",
              "        background-color: #E2EBFA;\n",
              "        box-shadow: 0px 1px 2px rgba(60, 64, 67, 0.3), 0px 1px 3px 1px rgba(60, 64, 67, 0.15);\n",
              "        fill: #174EA6;\n",
              "      }\n",
              "\n",
              "      [theme=dark] .colab-df-generate {\n",
              "        background-color: #3B4455;\n",
              "        fill: #D2E3FC;\n",
              "      }\n",
              "\n",
              "      [theme=dark] .colab-df-generate:hover {\n",
              "        background-color: #434B5C;\n",
              "        box-shadow: 0px 1px 3px 1px rgba(0, 0, 0, 0.15);\n",
              "        filter: drop-shadow(0px 1px 2px rgba(0, 0, 0, 0.3));\n",
              "        fill: #FFFFFF;\n",
              "      }\n",
              "    </style>\n",
              "    <button class=\"colab-df-generate\" onclick=\"generateWithVariable('models_report_bal')\"\n",
              "            title=\"Generate code using this dataframe.\"\n",
              "            style=\"display:none;\">\n",
              "\n",
              "  <svg xmlns=\"http://www.w3.org/2000/svg\" height=\"24px\"viewBox=\"0 0 24 24\"\n",
              "       width=\"24px\">\n",
              "    <path d=\"M7,19H8.4L18.45,9,17,7.55,7,17.6ZM5,21V16.75L18.45,3.32a2,2,0,0,1,2.83,0l1.4,1.43a1.91,1.91,0,0,1,.58,1.4,1.91,1.91,0,0,1-.58,1.4L9.25,21ZM18.45,9,17,7.55Zm-12,3A5.31,5.31,0,0,0,4.9,8.1,5.31,5.31,0,0,0,1,6.5,5.31,5.31,0,0,0,4.9,4.9,5.31,5.31,0,0,0,6.5,1,5.31,5.31,0,0,0,8.1,4.9,5.31,5.31,0,0,0,12,6.5,5.46,5.46,0,0,0,6.5,12Z\"/>\n",
              "  </svg>\n",
              "    </button>\n",
              "    <script>\n",
              "      (() => {\n",
              "      const buttonEl =\n",
              "        document.querySelector('#id_40bdff2a-c89d-4634-b361-ba3a73a8e9b6 button.colab-df-generate');\n",
              "      buttonEl.style.display =\n",
              "        google.colab.kernel.accessAllowed ? 'block' : 'none';\n",
              "\n",
              "      buttonEl.onclick = () => {\n",
              "        google.colab.notebook.generateWithVariable('models_report_bal');\n",
              "      }\n",
              "      })();\n",
              "    </script>\n",
              "  </div>\n",
              "\n",
              "    </div>\n",
              "  </div>\n"
            ],
            "text/plain": [
              "                    model  matthews_corrcoef  roc_auc_score  precision_score  \\\n",
              "0        GradientBoosting           0.185946       0.675188         0.326013   \n",
              "1      LogisticRegression           0.242569       0.681430         0.427408   \n",
              "2  RandomForestClassifier           0.155118       0.620802         0.331094   \n",
              "3           XGBClassifier           0.199309       0.671545         0.341809   \n",
              "\n",
              "   recall_score  f1_score model_type  \n",
              "0      0.908084  0.479779   Balanced  \n",
              "1      0.547750  0.480154   Balanced  \n",
              "2      0.789008  0.466450   Balanced  \n",
              "3      0.841577  0.486162   Balanced  "
            ]
          },
          "execution_count": 91,
          "metadata": {},
          "output_type": "execute_result"
        },
        {
          "data": {
            "image/png": "[encoded data removed]",
            "text/plain": [
              "<Figure size 600x600 with 1 Axes>"
            ]
          },
          "metadata": {},
          "output_type": "display_data"
        }
      ],
      "source": [
        "###########Synthetically balancing the dataset##################\n",
        "index_split = int(len(X_scaled)/2)\n",
        "X_train, y_train = SMOTE().fit_resample(X_scaled[0:index_split, :], y[0:index_split])\n",
        "X_test, y_test = X_scaled[index_split:], y[index_split:]\n",
        "models_report_bal, conf_matrix_bal = run_models(X_train, y_train, X_test, y_test, model_type = 'Balanced')\n",
        "models_report_bal"
      ]
    },
    {
      "cell_type": "markdown",
      "metadata": {},
      "source": [
        "Gradient Boosting is a good choice for the loan eligibility problem because it has the highest recall (0.908), ensuring that most eligible applicants are correctly identified. It also balances precision and recall well with a reasonable F1 score (0.48), making it suitable for complex loan data where identifying eligible applicants is a priority without overly sacrificing precision."
      ]
    },
    {
      "cell_type": "code",
      "execution_count": 93,
      "metadata": {
        "colab": {
          "base_uri": "https://localhost:8080/"
        },
        "id": "k4z7TaJG8LfF",
        "outputId": "5998964a-0fad-4d59-ad28-9df7a43dd999"
      },
      "outputs": [
        {
          "data": {
            "text/plain": [
              "['GBM_Model_version1.pkl']"
            ]
          },
          "execution_count": 93,
          "metadata": {},
          "output_type": "execute_result"
        }
      ],
      "source": [
        "################GBM model performed the best\n",
        "# save model\n",
        "gbm=GradientBoostingClassifier(max_depth= 6, n_estimators=100, max_features = 0.3)\n",
        "gbm.fit(X_scaled, y)\n",
        "joblib.dump(gbm, 'GBM_Model_version1.pkl')"
      ]
    }
  ],
  "metadata": {
    "accelerator": "GPU",
    "colab": {
      "gpuType": "T4",
      "provenance": []
    },
    "kernelspec": {
      "display_name": "Python 3",
      "name": "python3"
    },
    "language_info": {
      "codemirror_mode": {
        "name": "ipython",
        "version": 3
      },
      "file_extension": ".py",
      "mimetype": "text/x-python",
      "name": "python",
      "nbconvert_exporter": "python",
      "pygments_lexer": "ipython3",
      "version": "3.11.4"
    }
  },
  "nbformat": 4,
  "nbformat_minor": 0
}
